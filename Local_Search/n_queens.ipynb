{
 "cells": [
  {
   "cell_type": "markdown",
   "metadata": {},
   "source": [
    "# Solving the n-Queens Problem using Local Search\n",
    "\n",
    "## Instructions\n",
    "\n",
    "Total Points: Undergrads 100 / Graduate students 110\n",
    "\n",
    "Complete this notebook. Use the provided notebook cells and insert additional code and markdown cells as needed. Submit the completely rendered notebook as a PDF file. \n"
   ]
  },
  {
   "cell_type": "markdown",
   "metadata": {},
   "source": [
    "## The n-Queens Problem\n",
    "\n",
    "* __Goal:__ Find an arrangement of $n$ queens on a $n \\times n$ chess board so that no queen is on the same row, column or diagonal as any other queen.\n",
    "\n",
    "* __State space:__ An arrangement of the queens on the board. We restrict the state space to arrangements where there is only a single queen per column. We represent a state as an integer vector $\\mathbf{q} = \\{q_1, q_2, \\dots, q_n\\}$, each number representing the row positions of the queens from left to right. We will call a state a \"board.\"\n",
    "\n",
    "* __Objective function:__ The number of pairwise conflicts (i.e., two queens in the same row/column/diagonal).\n",
    "The optimization problem is to find the optimal arrangement $\\mathbf{q}^*$ of $n$ queens on the board can be written as:\n",
    "\n",
    "  > minimize: $\\mathrm{conflicts}(\\mathbf{q})$\n",
    "  >\n",
    "  > subject to: $\\mathbf{q} \\ \\text{contains only one queen per column}$\n",
    "\n",
    "  Note: the constraint (subject to) is enforced by the definition of the state space.\n",
    "\n",
    "* __Local improvement move:__ Move one queen to a different row in its column.\n",
    "\n",
    "* __Termination:__ For this problem there is always an arrangement $\\mathbf{q}^*$ with $\\mathrm{conflicts}(\\mathbf{q}^*) = 0$, however, the local improvement moves might end up in a local minimum. "
   ]
  },
  {
   "cell_type": "markdown",
   "metadata": {},
   "source": [
    "## Helper functions"
   ]
  },
  {
   "cell_type": "code",
   "execution_count": 2,
   "metadata": {},
   "outputs": [],
   "source": [
    "import numpy as np\n",
    "import matplotlib.pyplot as plt\n",
    "from matplotlib import colors\n",
    "\n",
    "np.random.seed(1234)\n",
    "\n",
    "\n",
    "def random_board(n):\n",
    "    \"\"\"Creates a random board of size n x n. Note that only a single queen is placed in each column!\"\"\"\n",
    "    \n",
    "    return(np.random.randint(0,n, size = n))\n",
    "\n",
    "def comb2(n): return n*(n-1)//2 # this is n choose 2 equivalent to math.comb(n, 2); // is int division\n",
    "\n",
    "def conflicts(board):\n",
    "    \"\"\"Caclulate the number of conflicts, i.e., the objective function.\"\"\"\n",
    "\n",
    "    n = len(board)\n",
    "    \n",
    "    horizontal_cnt = [0] * n\n",
    "    diagonal1_cnt = [0] * 2 * n\n",
    "    diagonal2_cnt = [0] * 2 * n\n",
    "    \n",
    "    for i in range(n):\n",
    "        horizontal_cnt[board[i]] += 1\n",
    "        diagonal1_cnt[i + board[i]] += 1\n",
    "        diagonal2_cnt[i - board[i] + n] += 1\n",
    "    \n",
    "    return sum(map(comb2, horizontal_cnt + diagonal1_cnt + diagonal2_cnt))\n",
    "\n",
    "\n",
    "def show_board(board, cols = ['white', 'gray'], fontsize = 48):  \n",
    "    \"\"\"display the board\"\"\"\n",
    "    \n",
    "    n = len(board)\n",
    "    \n",
    "    # create chess board display\n",
    "    display = np.zeros([n,n])\n",
    "    for i in range(n):\n",
    "        for j in range(n):\n",
    "            if (((i+j) % 2) != 0): \n",
    "                display[i,j] = 1\n",
    "    \n",
    "    cmap = colors.ListedColormap(cols)\n",
    "    fig, ax = plt.subplots()\n",
    "    ax.imshow(display, cmap = cmap, \n",
    "              norm = colors.BoundaryNorm(range(len(cols)+1), cmap.N))\n",
    "    ax.set_xticks([])\n",
    "    ax.set_yticks([])\n",
    "    \n",
    "    # place queens. Note: Unicode u265B is a black queen\n",
    "    for j in range(n):\n",
    "        plt.text(j, board[j], u\"\\u265B\", fontsize = fontsize, \n",
    "                 horizontalalignment = 'center',\n",
    "                 verticalalignment = 'center')\n",
    "    \n",
    "    print(f\"Board with {conflicts(board)} conflicts.\")\n",
    "    plt.show()"
   ]
  },
  {
   "cell_type": "markdown",
   "metadata": {},
   "source": [
    "## Create a board"
   ]
  },
  {
   "cell_type": "code",
   "execution_count": 3,
   "metadata": {},
   "outputs": [
    {
     "name": "stdout",
     "output_type": "stream",
     "text": [
      "Board with 4 conflicts.\n"
     ]
    },
    {
     "data": {
      "text/plain": "<Figure size 432x288 with 1 Axes>",
      "image/png": "[encoded data removed]"
     },
     "metadata": {},
     "output_type": "display_data"
    },
    {
     "name": "stdout",
     "output_type": "stream",
     "text": [
      "Queens (left to right) are at rows: [3 3 2 1]\n",
      "Number of conflicts: 4\n"
     ]
    }
   ],
   "source": [
    "board = random_board(4)\n",
    "\n",
    "show_board(board)\n",
    "print(f\"Queens (left to right) are at rows: {board}\")\n",
    "print(f\"Number of conflicts: {conflicts(board)}\")"
   ]
  },
  {
   "cell_type": "markdown",
   "metadata": {},
   "source": [
    "A board $4 \\times 4$ with no conflicts:"
   ]
  },
  {
   "cell_type": "code",
   "execution_count": 3,
   "metadata": {},
   "outputs": [
    {
     "name": "stdout",
     "output_type": "stream",
     "text": [
      "Board with 0 conflicts.\n"
     ]
    },
    {
     "data": {
      "image/png": "[encoded data removed]",
      "text/plain": [
       "<Figure size 432x288 with 1 Axes>"
      ]
     },
     "metadata": {},
     "output_type": "display_data"
    }
   ],
   "source": [
    "board = [1,3,0,2]\n",
    "show_board(board)"
   ]
  },
  {
   "cell_type": "markdown",
   "metadata": {},
   "source": [
    "# Tasks\n",
    "\n",
    "## General [10 Points]\n",
    "\n",
    "1. Make sure that you use the latest version of this notebook. Sync your forked repository and pull the latest revision. \n",
    "2. Your implementation can use libraries like math, numpy, scipy, but not libraries that implement inteligent agents or complete search algorithms. Try to keep the code simple! In this course, we want to learn about the algorithms and we often do not need to use object-oriented design.\n",
    "3. You notebook needs to be formated professionally. \n",
    "    - Add additional markdown blocks for your description, comments in the code, add tables and use mathplotlib to produce charts where appropriate\n",
    "    - Do not show debugging output or include an excessive amount of output.\n",
    "    - Check that your PDF file is readable. For example, long lines are cut off in the PDF file. You don't have control over page breaks, so do not worry about these.\n",
    "4. Document your code. Add a short discussion of how your implementation works and your design choices."
   ]
  },
  {
   "cell_type": "markdown",
   "metadata": {},
   "source": [
    "## Task 1: Steepest-ascend Hill Climbing Search [30 Points]\n",
    "\n",
    "Calculate the objective function for all local moves (see definition of local moves above) and always choose the best among all local moves. If there are no local moves that improve the objective, then you have reached a local optimum."
   ]
  },
  {
   "cell_type": "code",
   "execution_count": 189,
   "outputs": [],
   "source": [
    "def possibleMoves(i, board):\n",
    "    #find possible moves for the search\n",
    "    moves = [x for x in range(len(board)) if x != i]\n",
    "    return moves\n"
   ],
   "metadata": {
    "collapsed": false,
    "pycharm": {
     "name": "#%%\n"
    }
   }
  },
  {
   "cell_type": "code",
   "execution_count": 208,
   "outputs": [],
   "source": [
    "\n",
    "def STAH_climbing(board, verbose=False):\n",
    "    curr_board = board.copy()\n",
    "    current_min_conflicts = conflicts(board)\n",
    "\n",
    "    for column in range(len(board)):\n",
    "        column_moves = possibleMoves(curr_board[column], curr_board)\n",
    "\n",
    "        for i in column_moves:\n",
    "            test_move = curr_board.copy()\n",
    "            test_move[column] = i\n",
    "\n",
    "            if conflicts(test_move) < current_min_conflicts:\n",
    "                curr_board = test_move\n",
    "                current_min_conflicts = conflicts(test_move)\n",
    "    if(verbose == True):\n",
    "        show_board(curr_board)\n",
    "    return curr_board\n",
    "\n",
    "\n"
   ],
   "metadata": {
    "collapsed": false,
    "pycharm": {
     "name": "#%%\n"
    }
   }
  },
  {
   "cell_type": "code",
   "execution_count": 228,
   "outputs": [
    {
     "name": "stdout",
     "output_type": "stream",
     "text": [
      "Board with 4 conflicts.\n"
     ]
    },
    {
     "data": {
      "text/plain": "<Figure size 432x288 with 1 Axes>",
      "image/png": "[encoded data removed]"
     },
     "metadata": {},
     "output_type": "display_data"
    },
    {
     "name": "stdout",
     "output_type": "stream",
     "text": [
      "Board with 1 conflicts.\n"
     ]
    },
    {
     "data": {
      "text/plain": "<Figure size 432x288 with 1 Axes>",
      "image/png": "[encoded data removed]"
     },
     "metadata": {},
     "output_type": "display_data"
    }
   ],
   "source": [
    "board = random_board(4)\n",
    "#steepest_hill_climbing(board)\n",
    "show_board(board)\n",
    "x = STAH_climbing(board, True)"
   ],
   "metadata": {
    "collapsed": false,
    "pycharm": {
     "name": "#%%\n"
    }
   }
  },
  {
   "cell_type": "markdown",
   "metadata": {},
   "source": [
    "## Task 2: Stochastic Hill Climbing 1 [10 Points]\n",
    "\n",
    "Chooses randomly from among all uphill moves till you have reached a local optimum."
   ]
  },
  {
   "cell_type": "code",
   "execution_count": 304,
   "metadata": {},
   "outputs": [],
   "source": [
    "def generateStates(board):\n",
    "\n",
    "    new_states = list()\n",
    "\n",
    "    new_vectors = np.eye(len(board), len(board), dtype=int)\n",
    "\n",
    "    # Append vector sum and difference to list\n",
    "    for i in range(len(board)):\n",
    "        add = np.add(board, new_vectors[i])\n",
    "        subtract = np.subtract(board, new_vectors[i])\n",
    "\n",
    "        # Discard invalid boards with out of bounds choices\n",
    "        if -1 not in add and len(board) not in add:\n",
    "            new_states.append(add)\n",
    "        if -1 not in subtract and len(board) not in subtract:\n",
    "            new_states.append(subtract)\n",
    "\n",
    "    return new_states\n",
    "\n",
    "def stochastic_hill_climbing(SH_board, verbose=False):\n",
    "    while conflicts(SH_board) > 0:\n",
    "        #generate possible states\n",
    "        curr_states = generateStates(SH_board)\n",
    "        if True not in [conflicts(i) < conflicts(SH_board) for i in curr_states]:\n",
    "            break\n",
    "        #choose a random move\n",
    "        random_states = np.random.choice(range(len(curr_states)))\n",
    "        #random moves\n",
    "        random_possibilities = curr_states[random_states]\n",
    "        SH_board = random_possibilities\n",
    "\n",
    "        if verbose == True:\n",
    "            show_board(SH_board)\n",
    "            break\n",
    "    return SH_board\n"
   ]
  },
  {
   "cell_type": "code",
   "execution_count": 280,
   "outputs": [
    {
     "name": "stdout",
     "output_type": "stream",
     "text": [
      "Board with 4 conflicts.\n"
     ]
    },
    {
     "data": {
      "text/plain": "<Figure size 432x288 with 1 Axes>",
      "image/png": "[encoded data removed]"
     },
     "metadata": {},
     "output_type": "display_data"
    },
    {
     "name": "stdout",
     "output_type": "stream",
     "text": [
      "Board with 2 conflicts.\n"
     ]
    },
    {
     "data": {
      "text/plain": "<Figure size 432x288 with 1 Axes>",
      "image/png": "[encoded data removed]"
     },
     "metadata": {},
     "output_type": "display_data"
    }
   ],
   "source": [
    "test_board = random_board(4)\n",
    "show_board(test_board)\n",
    "x = stochastic_hill_climbing(test_board, True)"
   ],
   "metadata": {
    "collapsed": false,
    "pycharm": {
     "name": "#%%\n"
    }
   }
  },
  {
   "cell_type": "markdown",
   "metadata": {},
   "source": [
    "## Task 3: Stochastic Hill Climbing 2 [20 Points]\n",
    "\n",
    "A popular version of stochastic hill climbing generates only a single random local neighbor at a time and accept it if it has a better objective function value than the current state. This is very efficient if each state has many possible successor states. This method is called \"First-choice hill climbing\" in the textbook.\n",
    "\n",
    "__Notes:__ \n",
    "\n",
    "* Detecting local optima is tricky! You can, for example, stop if you were not able to improve the objective function during the last $x$ tries."
   ]
  },
  {
   "cell_type": "code",
   "execution_count": 338,
   "metadata": {},
   "outputs": [],
   "source": [
    "def SHC2_climb(board, verbose=False):\n",
    "    tries = 0\n",
    "\n",
    "    current_board = board.copy()\n",
    "    while(conflicts(current_board) > 0 and tries < 55):\n",
    "        tries += 1\n",
    "        minimum = conflicts(board)\n",
    "        for i in range(len(board)):\n",
    "            possible_moves = generateStates(current_board)\n",
    "            random_states = np.random.choice(range(len(possible_moves)))\n",
    "            random_boardSH2 = possible_moves[random_states]\n",
    "            if conflicts(random_boardSH2) < minimum:\n",
    "                minimum = conflicts(random_boardSH2)\n",
    "                current_board = random_boardSH2\n",
    "    if verbose == True:\n",
    "        show_board(current_board)\n",
    "    return current_board"
   ]
  },
  {
   "cell_type": "code",
   "execution_count": 332,
   "outputs": [
    {
     "name": "stdout",
     "output_type": "stream",
     "text": [
      "Board with 6 conflicts.\n"
     ]
    },
    {
     "data": {
      "text/plain": "<Figure size 432x288 with 1 Axes>",
      "image/png": "[encoded data removed]"
     },
     "metadata": {},
     "output_type": "display_data"
    },
    {
     "name": "stdout",
     "output_type": "stream",
     "text": [
      "Board with 4 conflicts.\n"
     ]
    },
    {
     "data": {
      "text/plain": "<Figure size 432x288 with 1 Axes>",
      "image/png": "[encoded data removed]"
     },
     "metadata": {},
     "output_type": "display_data"
    }
   ],
   "source": [
    "new_board = random_board(8)\n",
    "show_board(new_board)\n",
    "x = SHC2_climb(new_board, True)\n",
    "\n"
   ],
   "metadata": {
    "collapsed": false,
    "pycharm": {
     "name": "#%%\n"
    }
   }
  },
  {
   "cell_type": "markdown",
   "metadata": {},
   "source": [
    "## Task 4: Hill Climbing Search with Random Restarts [10 Points]\n",
    "\n",
    "Hill climbing will often end up in local optima. Restart the each of the three hill climbing algorithm up to 100 times with a random board to find a better (hopefully optimal) solution. Note that restart just means to run the algoithm several times starting with a new random board."
   ]
  },
  {
   "cell_type": "code",
   "execution_count": 353,
   "metadata": {},
   "outputs": [],
   "source": [
    "def HCrandom_restarts(algo, optimal_board, verbose=False):\n",
    "\n",
    "    #optimal_board = random_board(n)\n",
    "    if verbose == True:\n",
    "        show_board(optimal_board)\n",
    "    current = optimal_board.copy()\n",
    "    for i in range(100):\n",
    "        optimal_board = algo(optimal_board)\n",
    "        if conflicts(optimal_board) < conflicts(current):\n",
    "            current = optimal_board\n",
    "        if conflicts(current) == 0:\n",
    "            return current\n",
    "        optimal_board = random_board(len(optimal_board))\n",
    "\n",
    "    return current\n"
   ]
  },
  {
   "cell_type": "code",
   "execution_count": 385,
   "outputs": [
    {
     "name": "stdout",
     "output_type": "stream",
     "text": [
      "Board with 5 conflicts.\n"
     ]
    },
    {
     "data": {
      "text/plain": "<Figure size 432x288 with 1 Axes>",
      "image/png": "[encoded data removed]"
     },
     "metadata": {},
     "output_type": "display_data"
    },
    {
     "name": "stdout",
     "output_type": "stream",
     "text": [
      "Board with 0 conflicts.\n"
     ]
    },
    {
     "data": {
      "text/plain": "<Figure size 432x288 with 1 Axes>",
      "image/png": "[encoded data removed]"
     },
     "metadata": {},
     "output_type": "display_data"
    },
    {
     "name": "stdout",
     "output_type": "stream",
     "text": [
      "Board with 5 conflicts.\n"
     ]
    },
    {
     "data": {
      "text/plain": "<Figure size 432x288 with 1 Axes>",
      "image/png": "[encoded data removed]"
     },
     "metadata": {},
     "output_type": "display_data"
    },
    {
     "name": "stdout",
     "output_type": "stream",
     "text": [
      "Board with 0 conflicts.\n"
     ]
    },
    {
     "data": {
      "text/plain": "<Figure size 432x288 with 1 Axes>",
      "image/png": "[encoded data removed]"
     },
     "metadata": {},
     "output_type": "display_data"
    },
    {
     "name": "stdout",
     "output_type": "stream",
     "text": [
      "Board with 5 conflicts.\n"
     ]
    },
    {
     "data": {
      "text/plain": "<Figure size 432x288 with 1 Axes>",
      "image/png": "[encoded data removed]"
     },
     "metadata": {},
     "output_type": "display_data"
    },
    {
     "name": "stdout",
     "output_type": "stream",
     "text": [
      "Board with 0 conflicts.\n"
     ]
    },
    {
     "data": {
      "text/plain": "<Figure size 432x288 with 1 Axes>",
      "image/png": "[encoded data removed]"
     },
     "metadata": {},
     "output_type": "display_data"
    }
   ],
   "source": [
    "HC_board = random_board(4)\n",
    "x = HCrandom_restarts(STAH_climbing, HC_board, True)\n",
    "show_board(x)\n",
    "y = HCrandom_restarts(SHC2_climb, HC_board, True)\n",
    "show_board(y)\n",
    "z = HCrandom_restarts(stochastic_hill_climbing, HC_board, True)\n",
    "show_board(z)\n",
    "\n",
    "\n",
    "\n"
   ],
   "metadata": {
    "collapsed": false,
    "pycharm": {
     "name": "#%%\n"
    }
   }
  },
  {
   "cell_type": "markdown",
   "metadata": {},
   "source": [
    "## Task 5: Compare Performance [20 Points]\n",
    "\n",
    "Use runtime and objective function value to compare the algorithms. \n",
    "\n",
    "* Use boards of different sizes to explore how the different algorithms perform. Make sure that you run the algorithms for each board size several times (at least 10 times) with different starting boards and report averages.\n",
    "\n",
    "* How do the algorithms scale with problem size? Use tables and charts.\n",
    "\n",
    "* What is the largest board each algorithm can solve in a reasonable amount time?\n",
    "\n",
    "See [Profiling Python Code](../Python_Code_Examples/profiling_code.ipynb) for help about how to measure runtime in Python."
   ]
  },
  {
   "cell_type": "code",
   "execution_count": 384,
   "outputs": [
    {
     "name": "stdout",
     "output_type": "stream",
     "text": [
      "This Steepest-Ascend Hill Climb took: 2.22611665725708 milliseconds\n",
      "This Stochastic Hill Climb took: 51.87753438949585 milliseconds\n",
      "This Stochastic Hill Climb 2 took: 194.16486978530884 milliseconds\n"
     ]
    }
   ],
   "source": [
    "import time\n",
    "\n",
    "# INITIATING TEST\n",
    "#temp_board = random_board(4)\n",
    "runs = 100\n",
    "size_board = 8\n",
    "t0_STAH = time.time()\n",
    "for i in range(runs):\n",
    "    temp_board = random_board(size_board)\n",
    "    STAH_climbing(temp_board)\n",
    "t1_STAH = time.time()\n",
    "STAH_time = (t1_STAH - t0_STAH)/runs\n",
    "print(f\"This Steepest-Ascend Hill Climb took: {STAH_time * 1e3} milliseconds\")\n",
    "\n",
    "t0_Stochastic = time.time()\n",
    "for i in range(runs):\n",
    "    temp_board = random_board(size_board)\n",
    "    stochastic_hill_climbing(temp_board)\n",
    "t1_Stochastic= time.time()\n",
    "Stochastic_time = (t1_Stochastic - t0_Stochastic)/runs\n",
    "print(f\"This Stochastic Hill Climb took: {Stochastic_time * 1e3} milliseconds\")\n",
    "\n",
    "t0_SHC2 = time.time()\n",
    "for i in range(runs):\n",
    "    temp_board = random_board(size_board)\n",
    "    SHC2_climb(temp_board)\n",
    "t1_SHC2 = time.time()\n",
    "SHC2_time = (t1_SHC2 - t0_SHC2)/runs\n",
    "print(f\"This Stochastic Hill Climb 2 took: {SHC2_time * 1e3} milliseconds\")\n",
    "\n",
    "\n"
   ],
   "metadata": {
    "collapsed": false,
    "pycharm": {
     "name": "#%%\n"
    }
   }
  },
  {
   "cell_type": "code",
   "execution_count": 392,
   "metadata": {},
   "outputs": [],
   "source": [
    "import time\n",
    "import pandas as pd\n",
    "import matplotlib.pyplot as plt\n",
    "\n",
    "def performanceSimulation(runs, size_board):\n",
    "    performance = {\n",
    "        'SAHC' : np.zeros(shape = [runs]),\n",
    "        'SAHC_RR' : np.zeros(shape = [runs]),\n",
    "        'SHC' : np.zeros(shape = [runs]),\n",
    "        'SHC_RR' : np.zeros(shape = [runs]),\n",
    "        'SHC2' : np.zeros(shape = [runs]),\n",
    "        'SHC2_RR' : np.zeros(shape = [runs]),\n",
    "    }\n",
    "    runtime_performance = {\n",
    "        'SAHC' : np.zeros(shape = [runs]),\n",
    "        'SAHC_RR' : np.zeros(shape = [runs]),\n",
    "        'SHC' : np.zeros(shape = [runs]),\n",
    "        'SHC_RR' : np.zeros(shape = [runs]),\n",
    "        'SHC2' : np.zeros(shape = [runs]),\n",
    "        'SHC2_RR' : np.zeros(shape = [runs]),\n",
    "    }\n",
    "\n",
    "\n",
    "\n",
    "\n",
    "    for i in range(runs):\n",
    "        current_board = random_board(size_board).copy()\n",
    "\n",
    "        t0 = time.time()\n",
    "        performance['SAHC'][i] = \\\n",
    "            conflicts(STAH_climbing(current_board))\n",
    "        t1 = time.time()\n",
    "        runtime_performance['SAHC'][i] = t1-t0\n",
    "\n",
    "        t0 = time.time()\n",
    "        performance['SAHC_RR'][i] = conflicts\\\n",
    "            (HCrandom_restarts(STAH_climbing, current_board))\n",
    "        t1 = time.time()\n",
    "        runtime_performance['SAHC_RR'][i] = t1-t0\n",
    "\n",
    "        t0 = time.time()\n",
    "        performance['SHC'][i] = \\\n",
    "            conflicts(stochastic_hill_climbing(current_board))\n",
    "        t1 = time.time()\n",
    "        runtime_performance['SHC'][i] = t1-t0\n",
    "\n",
    "        t0 = time.time()\n",
    "        performance['SHC_RR'][i] = conflicts(HCrandom_restarts\n",
    "                                                                    (stochastic_hill_climbing,current_board))\n",
    "        t1 = time.time()\n",
    "        runtime_performance['SHC_RR'][i] = t1-t0\n",
    "\n",
    "        t0 = time.time()\n",
    "        performance['SHC2'][i] = conflicts(SHC2_climb(current_board))\n",
    "        t1 = time.time()\n",
    "        runtime_performance['SHC2'][i] = t1-t0\n",
    "\n",
    "        t0 = time.time()\n",
    "        performance['SHC2_RR'][i] = conflicts\\\n",
    "            (HCrandom_restarts(SHC2_climb,current_board))\n",
    "        t1 = time.time()\n",
    "        runtime_performance['SHC2_RR'][i] = t1-t0\n",
    "\n",
    "    # SHOW average conflicts\n",
    "    performance_data = pd.DataFrame(performance)\n",
    "    print(performance_data)\n",
    "    means = np.mean(performance_data, axis = 0)\n",
    "\n",
    "    plt.bar(means.keys(), means)\n",
    "    plt.title(f'Algorithm Accuracy at size {size_board}')\n",
    "    plt.ylabel(\"Average number of conflicts\")\n",
    "    plt.show()\n",
    "\n",
    "    runtime_performance_data = pd.DataFrame(runtime_performance)\n",
    "    print(runtime_performance_data)\n",
    "    mean_performance = np.mean(runtime_performance_data, axis = 0)\n",
    "\n",
    "    plt.bar(mean_performance.keys(), mean_performance)\n",
    "    plt.title(f'Algorithm Time at size {size_board}')\n",
    "    plt.ylabel(\"Average Time for size\")\n",
    "    plt.show()"
   ]
  },
  {
   "cell_type": "code",
   "execution_count": null,
   "outputs": [
    {
     "name": "stdout",
     "output_type": "stream",
     "text": [
      "   SAHC  SAHC_RR  SHC  SHC_RR  SHC2  SHC2_RR\n",
      "0   0.0      0.0  2.0     0.0   2.0      0.0\n",
      "1   2.0      0.0  2.0     0.0   1.0      0.0\n",
      "2   2.0      0.0  2.0     0.0   0.0      0.0\n",
      "3   1.0      0.0  2.0     0.0   0.0      0.0\n",
      "4   2.0      0.0  3.0     0.0   0.0      0.0\n",
      "5   0.0      0.0  3.0     0.0   2.0      0.0\n",
      "6   2.0      0.0  2.0     0.0   2.0      0.0\n",
      "7   1.0      0.0  1.0     0.0   1.0      0.0\n",
      "8   1.0      0.0  1.0     0.0   0.0      0.0\n",
      "9   1.0      0.0  3.0     0.0   0.0      0.0\n"
     ]
    },
    {
     "data": {
      "text/plain": "<Figure size 432x288 with 1 Axes>",
      "image/png": "[encoded data removed]"
     },
     "metadata": {
      "needs_background": "light"
     },
     "output_type": "display_data"
    },
    {
     "name": "stdout",
     "output_type": "stream",
     "text": [
      "       SAHC   SAHC_RR       SHC    SHC_RR      SHC2   SHC2_RR\n",
      "0  0.001001  0.000000  0.001000  0.057003  0.049277  0.135589\n",
      "1  0.000000  0.002995  0.001001  0.018002  0.042997  0.027196\n",
      "2  0.000000  0.002000  0.001000  0.105003  0.022002  0.022998\n",
      "3  0.000000  0.000998  0.003000  0.051999  0.034286  0.061001\n",
      "4  0.000998  0.004997  0.002102  0.005903  0.019006  0.045995\n",
      "5  0.000000  0.000000  0.003528  0.020470  0.063011  0.060987\n",
      "6  0.000000  0.002000  0.000000  0.043005  0.056995  0.238323\n",
      "7  0.000000  0.003002  0.000000  0.057001  0.056003  0.177603\n",
      "8  0.000999  0.000999  0.002001  0.053001  0.022002  0.008995\n",
      "9  0.000000  0.001001  0.000000  0.059058  0.003996  0.003006\n"
     ]
    },
    {
     "data": {
      "text/plain": "<Figure size 432x288 with 1 Axes>",
      "image/png": "[encoded data removed]"
     },
     "metadata": {
      "needs_background": "light"
     },
     "output_type": "display_data"
    }
   ],
   "source": [
    "performanceSimulation(10, 4)\n",
    "performanceSimulation(10, 8)\n",
    "performanceSimulation(10, 10)"
   ],
   "metadata": {
    "collapsed": false,
    "pycharm": {
     "name": "#%%\n",
     "is_executing": true
    }
   }
  },
  {
   "cell_type": "markdown",
   "source": [
    "I found that overall, steepest-ascend hill climbing outperformed both stochastic hill climbing and stochastic hill climbing 2 in both time and accuracy as the size increased.\n",
    "\n",
    "Also, in all algorithms, the random restarts performed the best in terms of performance and minimizing conflicts.\n",
    "\n",
    "I also attempted to calculate the performance at size 24, but the time to find the performance was beyond a reasonable amount of time.\n"
   ],
   "metadata": {
    "collapsed": false
   }
  },
  {
   "cell_type": "markdown",
   "metadata": {},
   "source": [
    "## Graduate student advanced task: Simulated Annealing [10 Points]\n",
    "\n",
    "__Undergraduate students:__ This is a bonus task you can attempt if you like [+5 Bonus Points].\n",
    "\n",
    "Simulated annealing is a form of stochastic hill climbing that avoid local optima by also allowing downhill moves with a probability proportional to a temperature. The temperature is decreased in every iteration following an annealing schedule. You have to experiment with the annealing schedule (Google to find guidance on this).\n",
    "\n",
    "\n",
    "1. Implement simulated annealing for the n-Queens problem.\n",
    "2. Compare the performance with the previous algorithms. \n",
    "2. Discuss your choice of annealing schedule."
   ]
  },
  {
   "cell_type": "code",
   "execution_count": 404,
   "metadata": {
    "tags": []
   },
   "outputs": [],
   "source": [
    "def simulatedAnnealing(n, verbose=False):\n",
    "    board = random_board(n)\n",
    "    min_conflicts = conflicts(board)\n",
    "    lowest_limit = 1E-6\n",
    "    if verbose is True:\n",
    "        show_board(board)\n",
    "\n",
    "    i = 0 # steps counter\n",
    "    while conflicts(board) > 0:\n",
    "        # get temperature\n",
    "        temperature = schedule(i)\n",
    "        if temperature < lowest_limit:\n",
    "            break\n",
    "        # get neighbor move\n",
    "        index = np.random.randint(0, n)\n",
    "        row = np.random.randint(0, n)\n",
    "        og = (index, board[index]) #column then row\n",
    "        board[index] = row\n",
    "        compare_conflicts = conflicts(board) - min_conflicts\n",
    "\n",
    "        if compare_conflicts < 0:\n",
    "            min_conflicts = conflicts(board)\n",
    "        elif np.exp((compare_conflicts* -1)/temperature) > np.random.rand():\n",
    "            min_conflicts = conflicts(board)\n",
    "\n",
    "        else: # move board to original position\n",
    "            board[og[0]] = og[1]\n",
    "        i += 1\n",
    "    if verbose:\n",
    "        print(show_board(board))\n",
    "    if verbose:\n",
    "        print(\"final conflicts:\", conflicts(board))\n",
    "    return board\n",
    "\n",
    "def schedule(i):\n",
    "    # temperature schedule function\n",
    "    const = 5\n",
    "    alpha = .98\n",
    "    return const * (alpha**i)\n",
    "\n"
   ]
  },
  {
   "cell_type": "code",
   "execution_count": 405,
   "outputs": [
    {
     "name": "stdout",
     "output_type": "stream",
     "text": [
      "Board with 1 conflicts.\n"
     ]
    },
    {
     "data": {
      "text/plain": "<Figure size 432x288 with 1 Axes>",
      "image/png": "[encoded data removed]"
     },
     "metadata": {},
     "output_type": "display_data"
    },
    {
     "name": "stdout",
     "output_type": "stream",
     "text": [
      "Board with 0 conflicts.\n"
     ]
    },
    {
     "data": {
      "text/plain": "<Figure size 432x288 with 1 Axes>",
      "image/png": "[encoded data removed]"
     },
     "metadata": {},
     "output_type": "display_data"
    },
    {
     "name": "stdout",
     "output_type": "stream",
     "text": [
      "None\n",
      "final conflicts: 0\n"
     ]
    }
   ],
   "source": [
    "x = simulatedAnnealing(4, True)"
   ],
   "metadata": {
    "collapsed": false,
    "pycharm": {
     "name": "#%%\n"
    }
   }
  },
  {
   "cell_type": "markdown",
   "source": [],
   "metadata": {
    "collapsed": false
   }
  },
  {
   "cell_type": "markdown",
   "metadata": {},
   "source": [
    "## More things to do\n",
    "\n",
    "Implement a Genetic Algorithm for the n-Queens problem."
   ]
  },
  {
   "cell_type": "code",
   "execution_count": 10,
   "metadata": {
    "tags": []
   },
   "outputs": [],
   "source": [
    "# Code and description go here"
   ]
  }
 ],
 "metadata": {
  "kernelspec": {
   "display_name": "Python 3 (ipykernel)",
   "language": "python",
   "name": "python3"
  },
  "language_info": {
   "codemirror_mode": {
    "name": "ipython",
    "version": 3
   },
   "file_extension": ".py",
   "mimetype": "text/x-python",
   "name": "python",
   "nbconvert_exporter": "python",
   "pygments_lexer": "ipython3",
   "version": "3.9.5"
  },
  "toc-autonumbering": false,
  "toc-showcode": false,
  "toc-showmarkdowntxt": false,
  "toc-showtags": false
 },
 "nbformat": 4,
 "nbformat_minor": 4
}