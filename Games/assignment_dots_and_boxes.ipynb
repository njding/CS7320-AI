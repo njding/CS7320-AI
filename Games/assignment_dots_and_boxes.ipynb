{
 "cells": [
  {
   "cell_type": "markdown",
   "metadata": {
    "pycharm": {
     "name": "#%% md\n"
    }
   },
   "source": [
    "# Adversarial Search: Playing Dots and Boxes\n",
    "\n",
    "\n",
    "## Instructions\n",
    "\n",
    "Total Points: Undegraduates 100, graduate students 110\n",
    "\n",
    "Complete this notebook and submit it. The notebook needs to be a complete project report with your implementation, documentation including a short discussion of how your implementation works and your design choices, and experimental results (e.g., tables and charts with simulation results) with a short discussion of what they mean. Use the provided notebook cells and insert additional code and markdown cells as needed.\n",
    "\n",
    "## Introduction\n",
    "\n",
    "You will implement different versions of agents that play the game Dots and Boxes:\n",
    "\n",
    "> \"Dots and Boxes is a pencil-and-paper game for two players. The game starts with an empty grid of dots. Usually two players take turns adding a single horizontal or vertical line between two unjoined adjacent dots. A player who completes the fourth side of a 1x1 box earns one point and takes another turn. A point is typically recorded by placing a mark that identifies the player in the box, such as an initial. The game ends when no more lines can be placed. The winner is the player with the most points. The board may be of any size grid.\" (see [Dots and Boxes on Wikipedia](https://en.wikipedia.org/wiki/Dots_and_Boxes))\n",
    "\n",
    "You can play Dots and Boxes [here](https://www.math.ucla.edu/~tom/Games/dots&boxes.html)."
   ]
  },
  {
   "cell_type": "markdown",
   "metadata": {
    "pycharm": {
     "name": "#%% md\n"
    }
   },
   "source": [
    "## Task 1: Defining the Search Problem [10 point]\n",
    "\n",
    "Define the components of the search problem associated with this game:\n",
    "\n",
    "* Initial state\n",
    "* Actions\n",
    "* Transition model\n",
    "* Test for the terminal state\n",
    "* Utility for terminal states"
   ]
  },
  {
   "cell_type": "code",
   "execution_count": 301,
   "metadata": {
    "pycharm": {
     "name": "#%%\n"
    }
   },
   "outputs": [],
   "source": [
    "# Your code/answer goes here.\n",
    "#Initial state is a empty board containing a 2D array of dots\n",
    "# of size rows * columns.\n",
    "# The lines are not formed or connected and there are no boxes.\n",
    "# It is the first player's turn\n",
    "#Actions: Place one line on an available edge between two dots\n",
    "#Transition Model: f(previous state): action * previous state =\n",
    "# all possible instances\n",
    "# of previous state where one line can be placed on a previously\n",
    "# available edge. The turns\n",
    "# are swapped if no box was created\n",
    "#Test for terminal State: player 1 or 2 formed more than\n",
    "# ((m-1)(n-1))/2 + 1 boxes or all\n",
    "# the lines have been filled\n",
    "#Utility: Whoever wins the game +1, if lose -1, if draw = 0"
   ]
  },
  {
   "cell_type": "markdown",
   "metadata": {
    "pycharm": {
     "name": "#%% md\n"
    }
   },
   "source": [
    "How big is the state space? Give an estimate and explain it."
   ]
  },
  {
   "cell_type": "code",
   "execution_count": 299,
   "metadata": {
    "pycharm": {
     "name": "#%%\n"
    }
   },
   "outputs": [],
   "source": [
    "# Your code/ answer goes here.\n",
    "#An m × n game has p = m(n+ 1)+ (m+ 1)n edges and 2^p\n",
    "# possible unscored states.\n",
    "# An action is drawing a line and there are p possible\n",
    "# actions that can be chosen."
   ]
  },
  {
   "cell_type": "markdown",
   "metadata": {
    "pycharm": {
     "name": "#%% md\n"
    }
   },
   "source": [
    "How big is the game tree that minimax search will go through? Give an estimate and explain it."
   ]
  },
  {
   "cell_type": "code",
   "execution_count": 302,
   "metadata": {
    "pycharm": {
     "name": "#%%\n"
    }
   },
   "outputs": [],
   "source": [
    "#Depth is (n-1)(m) + m-1(n). The branching factor is\n",
    "# (n-1)(m) + n(m-1) - l\n",
    "# (the possible line positions minus the number of lines\n",
    "# that have been placed already.)\n",
    "#To traverse all the nodes, the game tree is O(b^d).\n",
    "# The game tree is ((n-1)(m) +\n",
    "# (n)(m-1) - l)^((n-1)(m) + (n)(m-1))."
   ]
  },
  {
   "cell_type": "markdown",
   "metadata": {
    "pycharm": {
     "name": "#%% md\n"
    }
   },
   "source": [
    "## Task 2: Game Environment and Random Agent [30 point]\n",
    "\n",
    "You need to think about a data structure to represent the board meaning he placed lines and who finished what box. There are many options. Let's represent the board using a simple dictionary where `n` and `m` represents the number of dots horizontaly and vertically, respectively. Everybody needs to use the same representation so we can let agents play against each other later. "
   ]
  },
  {
   "cell_type": "code",
   "execution_count": 4,
   "metadata": {
    "pycharm": {
     "name": "#%%\n"
    }
   },
   "outputs": [
    {
     "name": "stdout",
     "output_type": "stream",
     "text": [
      "True\n",
      "True\n",
      "False\n"
     ]
    },
    {
     "data": {
      "text/plain": "{'c': 4, 'r': 4, ('h', 1, 1): True, ('v', 1, 1): True}"
     },
     "execution_count": 4,
     "metadata": {},
     "output_type": "execute_result"
    }
   ],
   "source": [
    "board = {\n",
    "    'c': 4,  ### hoizontal dots\n",
    "    'r': 4   ### vertical dots\n",
    "}\n",
    "YELLOW_PLAYER = 1\n",
    "RED_PLAYER = 2\n",
    "\n",
    "def create_board(x, y):\n",
    "    boardC = {\n",
    "    'r':x,\n",
    "    'c':y,\n",
    "    'moves':{},\n",
    "    'edges':[0] * ( (x-1) * (y-1) ),\n",
    "    'boxes':{}\n",
    "}\n",
    "    return boardC\n",
    "\n",
    "def draw_line(board, orientation, row, col):\n",
    "    \"\"\"\n",
    "    Place a line on an exiting board.\n",
    "       \n",
    "    Parameters\n",
    "    ----------\n",
    "    board: dict\n",
    "        the board\n",
    "    orientation: str\n",
    "        either 'h' or 'v' for horizontal or vertical\n",
    "    row, col: int\n",
    "        index of the starting dot for the line (starting with 0)\n",
    "    \n",
    "    \"\"\"\n",
    "    \n",
    "    if orientation not in ['h', 'v']:\n",
    "        return False\n",
    "        \n",
    "    if row < 0 or col < 0:\n",
    "        return False\n",
    "        \n",
    "    if row >= board['c'] + (orientation == 'v') or col >= board['r']\\\n",
    "            + (orientation == 'h'):\n",
    "        return False\n",
    "        \n",
    "    if (orientation, row, col) in board:\n",
    "        return False\n",
    "            \n",
    "    board[(orientation, row, col)] = True\n",
    "\n",
    "    return True\n",
    "    \n",
    "\n",
    "print(draw_line(board, \"h\", 1, 1))\n",
    "print(draw_line(board, \"v\", 1, 1))\n",
    "\n",
    "# this hould not work\n",
    "print(draw_line(board, \"h\", 1, 1))\n",
    "\n",
    "board"
   ]
  },
  {
   "cell_type": "markdown",
   "metadata": {
    "pycharm": {
     "name": "#%% md\n"
    }
   },
   "source": [
    "Write code to display the board. **Bonus point: Post your visualization code with an example output to the discussion board. The best visualization will earn you bonus participation points in this class.**"
   ]
  },
  {
   "cell_type": "code",
   "execution_count": 5,
   "metadata": {
    "scrolled": true,
    "pycharm": {
     "name": "#%%\n"
    }
   },
   "outputs": [],
   "source": [
    "# Your code/ answer goes here.#Visualization Provided by Jack Easton\n",
    "# from SMU Canvas\n",
    "import matplotlib.pyplot as plt\n",
    "from matplotlib.patches import Rectangle\n",
    "\n",
    "def draw_board(board):\n",
    "    h_dots = board['c']\n",
    "    v_dots = board['r']\n",
    "    dot_size = 25/max(h_dots, v_dots)\n",
    "    dot_color = 'k'\n",
    "\n",
    "    # create board\n",
    "    fig = plt.figure(\n",
    "        figsize=[4,4],\n",
    "        facecolor='white', edgecolor='black'\n",
    "    )\n",
    "    ax = fig.add_subplot(111)\n",
    "\n",
    "    # scale the axis area to fill the whole figure\n",
    "    ax.set_position([0,0,1,1])\n",
    "    # get rid of axes and everything\n",
    "    ax.set_axis_off()\n",
    "    # scale the plot area conveniently\n",
    "    ax.set_xlim(-1,h_dots)\n",
    "    ax.set_ylim(-1,v_dots)\n",
    "\n",
    "    # draw dots\n",
    "    for x in range(h_dots):\n",
    "        for y in range(v_dots):\n",
    "            s2, = ax.plot(x,y,'o',markersize=dot_size,\n",
    "                          markeredgecolor='k',\n",
    "                          markerfacecolor='k', markeredgewidth=2)\n",
    "\n",
    "    # print location information (x-, y-positions)\n",
    "    for x in range(h_dots):\n",
    "        plt.text(x, -1, f\"{x}\", fontsize = 10, color = \"black\",\n",
    "                 horizontalalignment = 'center',\n",
    "                 verticalalignment = 'center')\n",
    "    for y in range(v_dots):\n",
    "        plt.text(-1, y, f\"{y}\", fontsize = 10, color = \"black\",\n",
    "                 horizontalalignment = 'center',\n",
    "                 verticalalignment = 'center')\n",
    "\n",
    "    # print box indices\n",
    "    loc_num=0\n",
    "    for y in range(v_dots-1):\n",
    "        for x in range(h_dots-1):\n",
    "            plt.text(x+0.5, y+0.5, f\"{loc_num}\",\n",
    "                     fontsize = 10, color = \"gray\",\n",
    "                 horizontalalignment = 'center',\n",
    "                 verticalalignment = 'center')\n",
    "            loc_num += 1\n",
    "\n",
    "    return plt, ax\n",
    "\n",
    "def draw_gameplay(board, ax, verbose):\n",
    "    h_dots = board['c']\n",
    "    v_dots = board['r']\n",
    "    line_thickness = 25/max(h_dots, v_dots)\n",
    "    player1_color = 'y'\n",
    "    player2_color = 'r'\n",
    "\n",
    "    # draw player lines\n",
    "    for move in board['moves']:\n",
    "        # determine who drew line\n",
    "        player_color = ''\n",
    "        if board['moves'][move] == 1: player_color = player1_color\n",
    "        else: player_color = player2_color\n",
    "\n",
    "        # get line position on board\n",
    "        start_x, start_y = move[1], move[2]\n",
    "        end_x, end_y = start_x, start_y\n",
    "        if move[0] == 'h': end_x += 1\n",
    "        else: end_y += 1\n",
    "\n",
    "        # draw line\n",
    "        if verbose: print(f\"({start_x},{start_y}) -> ({end_x},{end_y})\")\n",
    "        ax.plot([start_x,end_x], [start_y, end_y], player_color,\n",
    "                linewidth=line_thickness)\n",
    "\n",
    "    # fill in player's boxes\n",
    "    for box in board['boxes']:\n",
    "        y = int(box/(h_dots-1))\n",
    "        x = box - (h_dots-1)*y\n",
    "\n",
    "        patch = Rectangle((x,y), 1, 1)\n",
    "        patch.set_alpha(0.5)\n",
    "        if board['boxes'][box] == 1: patch.set_color(player1_color)\n",
    "        else: patch.set_color(player2_color)\n",
    "\n",
    "        ax.add_patch(patch) # (start node), x_width, y_height\n",
    "\n",
    "def display(board, verbose=False):\n",
    "    plt, ax = draw_board(board)\n",
    "    draw_gameplay(board, ax, verbose)\n",
    "\n",
    "    plt.show()\n"
   ]
  },
  {
   "cell_type": "code",
   "execution_count": 6,
   "outputs": [
    {
     "data": {
      "text/plain": "{'r': 5,\n 'c': 5,\n 'moves': {},\n 'edges': [0, 0, 0, 0, 0, 0, 0, 0, 0, 0, 0, 0, 0, 0, 0, 0],\n 'boxes': {}}"
     },
     "execution_count": 6,
     "metadata": {},
     "output_type": "execute_result"
    }
   ],
   "source": [
    "temp = create_board(5,5)\n",
    "# draw_line(temp, 'h', 1,1)\n",
    "# draw_line(temp, 'v', 2, 1)\n",
    "# draw_line(temp, 'v', 2, 2)\n",
    "# draw_line(temp, 'h', 2,1)\n",
    "# draw_board(temp)\n",
    "temp\n",
    "# display(temp)"
   ],
   "metadata": {
    "collapsed": false,
    "pycharm": {
     "name": "#%%\n"
    }
   }
  },
  {
   "cell_type": "code",
   "execution_count": 7,
   "outputs": [],
   "source": [
    "\n",
    "def make_move(board, player, move, show_board = False, verbose=False):\n",
    "    \"\"\"\n",
    "    Place a line on an exiting board.\n",
    "\n",
    "    Parameters\n",
    "    ----------\n",
    "    board: dict\n",
    "        the board\n",
    "    orientation: str\n",
    "        either 'h' or 'v' for horizontal or vertical\n",
    "    row, col: int\n",
    "        index of the starting dot for the line (starting with 0)\n",
    "\n",
    "    \"\"\"\n",
    "\n",
    "    if move[0] not in ['h', 'v']: #Orientation is wrong\n",
    "        return False\n",
    "\n",
    "    if move[1] < 0 or move[2] < 0: #negative number\n",
    "        return False\n",
    "\n",
    "    if move[1] >= board['c'] + (move[0] == 'v') or \\\n",
    "            move[2] >= board['r'] + (move[0] == 'h'):\n",
    "        return False\n",
    "\n",
    "    if (move[0], move[1], move[2]) in board[\"moves\"]:\n",
    "        return False\n",
    "\n",
    "    if(move[0] == 'v' and move[2] == board['c']-1):\n",
    "        return False\n",
    "\n",
    "    if(move[0] == 'h' and move[1] == board['r']-1):\n",
    "        return False\n",
    "\n",
    "    #board[(move[0], move[1], move[2])] = True\n",
    "    # if (move[0], move[1], move[2]) not in board[\"moves\"]:\n",
    "    temp_move = {move : player}\n",
    "    board['moves'].update(temp_move)\n",
    "\n",
    "    # if move in board['moves']:\n",
    "    #     print(\"HO\")\n",
    "    #     return False\n",
    "\n",
    "    if (move[0] == \"v\" and move[1] == 0):   #touches left side\n",
    "        edge = move[2] * (board['c']-1)\n",
    "        edge += move[1]\n",
    "        board['edges'][edge] += 1\n",
    "        if board['edges'][edge] == 4:\n",
    "            temp_box = { edge : player}\n",
    "            board['boxes'].update(temp_box)\n",
    "        if(verbose == True):\n",
    "            print(edge)\n",
    "            print(board)\n",
    "        if(show_board==True):\n",
    "            display(board)\n",
    "        return True\n",
    "\n",
    "    if(move[0] == \"v\" and move[1] == board['c']-1):\n",
    "        # touches right side but not corner\n",
    "        edge = move[2] * (board['c']-1)\n",
    "        edge += move[1]\n",
    "        edge2 = edge - 1\n",
    "        board['edges'][edge2] += 1\n",
    "        if board['edges'][edge2] == 4: #update edges\n",
    "            temp_box = { edge2 : player}\n",
    "            board['boxes'].update(temp_box)\n",
    "\n",
    "        if(verbose == True):\n",
    "            print(edge2) # only edge 2\n",
    "            print(board)\n",
    "        if(show_board==True):\n",
    "            display(board)\n",
    "        return True\n",
    "\n",
    "    if (move[0] == \"v\"):\n",
    "        edge = move[2] * (board['c']-1)\n",
    "        edge += move[1]\n",
    "        edge2 = edge - 1\n",
    "        board['edges'][edge] += 1\n",
    "        board['edges'][edge2] += 1\n",
    "\n",
    "        if board['edges'][edge] == 4:\n",
    "            temp_box = { edge : player}\n",
    "            board['boxes'].update(temp_box)\n",
    "\n",
    "        if board['edges'][edge2] == 4:\n",
    "            temp_box = { edge2 : player}\n",
    "            board['boxes'].update(temp_box)\n",
    "\n",
    "        if(verbose == True):\n",
    "            print(edge)\n",
    "            print(edge2)\n",
    "            print(board)\n",
    "        if(verbose==True):\n",
    "            display(board)\n",
    "        return True\n",
    "\n",
    "    if (move[0] == \"h\" and move[2] == 0): #touches bottom side\n",
    "        edge = move[1] #* (board['r']-1)\n",
    "        edge += move[2]\n",
    "        board['edges'][edge] += 1\n",
    "\n",
    "        if board['edges'][edge] == 4:\n",
    "            temp_box = { edge : player}\n",
    "            board['boxes'].update(temp_box)\n",
    "\n",
    "        if(verbose == True):\n",
    "            print(edge)\n",
    "            print(board)\n",
    "        if(show_board==True):\n",
    "            display(board)\n",
    "        return True\n",
    "\n",
    "\n",
    "    if (move[0] == \"h\" and move[1] == 0\n",
    "            and move[2] != board['c']-1):   #touches left side but not top\n",
    "        edge = move[2] * (board['r']-1)\n",
    "        edge2 = edge - (board['r'] - 1)\n",
    "        board['edges'][edge] += 1\n",
    "        board['edges'][edge2] += 1\n",
    "\n",
    "        if board['edges'][edge] == 4:\n",
    "            temp_box = { edge : player}\n",
    "            board['boxes'].update(temp_box)\n",
    "\n",
    "        if board['edges'][edge2] == 4:\n",
    "            temp_box = { edge2 : player}\n",
    "            board['boxes'].update(temp_box)\n",
    "\n",
    "        if(verbose == True):\n",
    "            print(edge)\n",
    "            print(edge2)\n",
    "            print(board)\n",
    "        if(show_board==True):\n",
    "            display(board)\n",
    "        return True\n",
    "\n",
    "    if (move[0] == \"h\" and move[2] == board['c']-1\n",
    "            and move[1] == 0): #Top Left Corner\n",
    "        edge = move[2] * (board['r']-1)\n",
    "        edge2 = edge - (board['r'] - 1)\n",
    "        board['edges'][edge2] += 1\n",
    "\n",
    "        if board['edges'][edge2] == 4:\n",
    "            temp_box = { edge2 : player}\n",
    "            board['boxes'].update(temp_box)\n",
    "\n",
    "        if(verbose == True):\n",
    "            print(edge2)\n",
    "            print(board)\n",
    "        if(show_board==True):\n",
    "            display(board)\n",
    "        return True\n",
    "\n",
    "    if (move[0] == \"h\" and move[2] == board['c']-1\n",
    "            and move[1] == board['r']-2 ): #Top Right Corner\n",
    "        edge = move[2] * (board['c']-1)\n",
    "        edge += move[1]\n",
    "        edge2 = edge - (board['r'] - 1)\n",
    "        board['edges'][edge2] += 1\n",
    "\n",
    "        if board['edges'][edge2] == 4:\n",
    "            temp_box = { edge2 : player}\n",
    "            board['boxes'].update(temp_box)\n",
    "\n",
    "        if(verbose == True):\n",
    "            print(edge2)\n",
    "            print(board)\n",
    "        if(show_board==True):\n",
    "            display(board)\n",
    "        return True\n",
    "\n",
    "    if (move[0] == \"h\" and move[2] == board['c']-1): #Top Right Corner\n",
    "        edge = move[2] * (board['c']-1)\n",
    "        edge += move[1]\n",
    "        edge2 = edge - (board['r'] - 1)\n",
    "        board['edges'][edge2] += 1\n",
    "\n",
    "        if board['edges'][edge2] == 4:\n",
    "            temp_box = { edge2 : player}\n",
    "            board['boxes'].update(temp_box)\n",
    "\n",
    "        if(verbose == True):\n",
    "            print(edge2)\n",
    "            print(board)\n",
    "        if(show_board==True):\n",
    "            display(board)\n",
    "        return True\n",
    "\n",
    "    if (move[0] == \"h\"): #in the middle\n",
    "        edge = move[2] * (board['c']-1)\n",
    "        edge += move[1]\n",
    "        edge2 = edge - (board['r'] - 1)\n",
    "        board['edges'][edge] += 1\n",
    "        board['edges'][edge2] += 1\n",
    "\n",
    "        if board['edges'][edge] == 4:\n",
    "            temp_box = { edge : player}\n",
    "            board['boxes'].update(temp_box)\n",
    "\n",
    "        if board['edges'][edge2] == 4:\n",
    "            temp_box = { edge2 : player}\n",
    "            board['boxes'].update(temp_box)\n",
    "\n",
    "        if(verbose== True):\n",
    "            print(edge)\n",
    "            print(edge2)\n",
    "            print(board)\n",
    "        if(show_board==True):\n",
    "            display(board)\n",
    "        return True\n",
    "\n",
    "    #print(edge)\n",
    "    #print(edge2)\n",
    "    if(show_board==True):\n",
    "        display(board)\n",
    "    return True\n"
   ],
   "metadata": {
    "collapsed": false,
    "pycharm": {
     "name": "#%%\n"
    }
   }
  },
  {
   "cell_type": "code",
   "execution_count": 8,
   "outputs": [],
   "source": [
    "temp = create_board(5,5)\n",
    "#print(temp)\n",
    "moves = [\n",
    "     (\"h\", 1, 4),\n",
    "     (\"v\", 3, 3),\n",
    "    #(\"h\", 0, 0),\n",
    "     (\"h\", 0, 4),\n",
    "     (\"h\", 3, 4),\n",
    "     (\"h\", 0, 0),\n",
    "    (\"v\", 4, 3),\n",
    "     (\"v\", 3, 3),\n",
    "    (\"v\", 0, 3),\n",
    "     (\"h\", 3, 0),\n",
    "     (\"v\", 4, 0),\n",
    "    (\"v\", 0, 0)\n",
    "]\n",
    "\n",
    "def play(temp, moves):\n",
    "    player1 = True\n",
    "    for move in moves:\n",
    "        orientation = \"\"\n",
    "        if move[0] == 'h': orientation = \"horizontal\"\n",
    "        else: orientation = \"vertical\"\n",
    "\n",
    "        #print(f\"----- ({move[2]},{move[1]}), {orientation} -----\")\n",
    "\n",
    "        if player1: make_move(temp, 1, move, show_board=False, verbose=False)\n",
    "        else: make_move(temp, 2, move, show_board=False, verbose=False)\n",
    "\n",
    "        player1 = not player1\n",
    "play(temp,moves)\n",
    "#print(temp)\n",
    "# display(temp)"
   ],
   "metadata": {
    "collapsed": false,
    "pycharm": {
     "name": "#%%\n"
    }
   }
  },
  {
   "cell_type": "markdown",
   "metadata": {
    "pycharm": {
     "name": "#%% md\n"
    }
   },
   "source": [
    "Implement helper functions for:\n",
    "\n",
    "* The transition model $result(s, a)$.\n",
    "* The utility function $utility(s)$.\n",
    "* Check for terminal states $terminal(s)$.\n",
    "* A check for available actions in each state $actions(s)$.\n",
    "\n",
    "__Notes:__\n",
    "* Make sure that all these functions work with boards of different sizes (number of columns and rows as stored in the board).\n",
    "* The result function evaluates if the player closed a box and needs to store that information on the board. Add elements of the form `(row,col): player` to the board dictionary. `row` and `col` are the coordinates for the box and `player` is +1 or -1 representing the player. For example `(0,0): -1` means that the top-left box belongs to the other player. "
   ]
  },
  {
   "cell_type": "code",
   "execution_count": 9,
   "metadata": {
    "pycharm": {
     "name": "#%%\n"
    }
   },
   "outputs": [],
   "source": [
    "import numpy\n",
    "import copy\n",
    "def other(player):\n",
    "    if player == 1: return 2\n",
    "    else: return 1\n",
    "\n",
    "def result(board, player, move):\n",
    "\n",
    "    board_new = copy.deepcopy(board)\n",
    "    make_move(board_new, player, move)\n",
    "\n",
    "    return board_new\n",
    "\n",
    "\n",
    "def check_win(board):\n",
    "\n",
    "    # if(terminal(board) == \"None\"):\n",
    "    #     return \"None\"\n",
    "    #\n",
    "    # player1 = 0\n",
    "    # player2 = 0\n",
    "    # for check in range(len(board['boxes'])):\n",
    "    #     if(board['boxes'][check] == 1):\n",
    "    #         player1 = player1 + 1 #player1 = 1\n",
    "    #     if(board['boxes'][check] == 2):\n",
    "    #         player2 = player2 + 1 #player2 = 2\n",
    "    #\n",
    "    # if player1 > player2:\n",
    "    #     return 1\n",
    "    # elif player1 == player2:\n",
    "    #     return \"d\"\n",
    "    # else:\n",
    "    #     return 2\n",
    "\n",
    "    boxes = board['boxes']\n",
    "\n",
    "    win_threshold = (board['c']-1)*(board['r']-1)//2 + 1\n",
    "\n",
    "    min_cnt = 0\n",
    "    max_cnt = 0\n",
    "    for box in boxes:\n",
    "        if board['boxes'][box] == 1:\n",
    "            max_cnt += 1\n",
    "        elif board['boxes'][box] == 2:\n",
    "            min_cnt += 1\n",
    "\n",
    "        if max_cnt >= win_threshold:\n",
    "            return 1\n",
    "        if min_cnt >= win_threshold:\n",
    "            return 2\n",
    "\n",
    "    return \"None\"\n",
    "\n",
    "def terminal(board):\n",
    "    win_count = len(board['edges'])\n",
    "    poss_boxes = len(board['boxes'])\n",
    "    if win_count != poss_boxes:\n",
    "        return \"None\"\n",
    "    if check_win(board) != \"None\" or win_count==poss_boxes:\n",
    "        return True\n",
    "\n",
    "def utility(board, player = 1):\n",
    "    goal = check_win(board)\n",
    "    if goal == player: return +1\n",
    "    if goal == 'd': return 0\n",
    "    if goal == other(player): return -1  # loss is failure\n",
    "    return None # continue\n",
    "    # Utility: Ratio of boxes Max owns to boxes Min owns.\n",
    "    utility = 0\n",
    "\n",
    "    # Who owns what box?\n",
    "    # Calculate utility by calculating Max - Min.\n",
    "    # for box in range(len(board['boxes'])):\n",
    "    #     if (board['boxes'][box] == player):\n",
    "    #         utility += 1\n",
    "    #     elif (board['boxes'][box] == other(player)):\n",
    "    #         utility -= 1\n",
    "    #\n",
    "    # return utility\n",
    "\n",
    "def actions(board):\n",
    "    poss_moves = []\n",
    "    moves = board['moves']\n",
    "    temp_h = \"h\"\n",
    "    for i in range(board['r']-1):\n",
    "        for j in range(board['c']):\n",
    "            r_move = (temp_h, i, j)\n",
    "            if(r_move not in moves):\n",
    "                poss_moves.append(r_move)\n",
    "    for i in range(board['r']):\n",
    "        for j in range(board['c']-1):\n",
    "            r_move = (\"v\", i, j)\n",
    "            if(r_move not in moves):\n",
    "                poss_moves.append(r_move)\n",
    "    return poss_moves"
   ]
  },
  {
   "cell_type": "code",
   "execution_count": 10,
   "outputs": [
    {
     "name": "stdout",
     "output_type": "stream",
     "text": [
      "[('h', 0, 0), ('h', 0, 1), ('h', 0, 2), ('h', 0, 3), ('h', 1, 0), ('h', 1, 1), ('h', 1, 2), ('h', 1, 3), ('h', 2, 0), ('h', 2, 1), ('h', 2, 2), ('h', 2, 3), ('v', 0, 0), ('v', 0, 1), ('v', 0, 2), ('v', 1, 0), ('v', 1, 1), ('v', 1, 2), ('v', 2, 0), ('v', 2, 1), ('v', 2, 2), ('v', 3, 0), ('v', 3, 1), ('v', 3, 2)]\n"
     ]
    },
    {
     "data": {
      "text/plain": "<Figure size 288x288 with 1 Axes>",
      "image/png": "[encoded data removed]"
     },
     "metadata": {},
     "output_type": "display_data"
    },
    {
     "name": "stdout",
     "output_type": "stream",
     "text": [
      "2\n",
      "1\n"
     ]
    }
   ],
   "source": [
    "temp_test = create_board(4,4)\n",
    "act = (actions(temp_test))\n",
    "print(act)\n",
    "play(temp_test, act)\n",
    "display(temp_test)\n",
    "print(check_win(temp_test))\n",
    "print(utility(temp_test, 2))\n",
    "\n",
    "moves = [\n",
    "     (\"h\", 3, 3),\n",
    "     (\"v\", 3, 3),\n",
    "    #(\"h\", 0, 0),\n",
    "     (\"h\", 0, 4),\n",
    "     (\"h\", 3, 4),\n",
    "     (\"h\", 1, 4),\n",
    "    (\"v\", 4, 3),\n",
    "     (\"v\", 3, 3),\n",
    "    (\"v\", 0, 3),\n",
    "     (\"h\", 3, 0),\n",
    "     (\"v\", 4, 0),\n",
    "    (\"v\", 0, 0),\n",
    "]\n",
    "#play(temp_test,moves)\n",
    "#actions(temp_test)"
   ],
   "metadata": {
    "collapsed": false,
    "pycharm": {
     "name": "#%%\n"
    }
   }
  },
  {
   "cell_type": "markdown",
   "metadata": {
    "pycharm": {
     "name": "#%% md\n"
    }
   },
   "source": [
    "Implement an agent that plays randomly. Make sure the agent function receives as the percept the board and returns a valid action. Use an agent function definition with the following signature (arguments):\n",
    "\n",
    "`def random_player(board, player = None): ...`\n",
    "\n",
    "The argument `player` is used for agents that do not store what side they are playing. The value passed on by the environment should be 1 ot -1 for playerred and yellow, respectively.  See [Experiments section for tic-tac-toe](https://nbviewer.org/github/mhahsler/CS7320-AI/blob/master/Games/tictactoe_and_or_tree_search.ipynb#Experiments) for an example."
   ]
  },
  {
   "cell_type": "code",
   "execution_count": 11,
   "metadata": {
    "pycharm": {
     "name": "#%%\n"
    }
   },
   "outputs": [],
   "source": [
    "import numpy\n",
    "import random\n",
    "def random_player(board, player = None):\n",
    "    while True:\n",
    "        # temp_random = ['h', 'v']\n",
    "        # random1 = random.choice(temp_random)\n",
    "        # if random1 == 'h':\n",
    "        #     move_r = numpy.random.choice(range(0,board['r']-1))\n",
    "        #     move_h = numpy.random.choice(range(0,board['c']))\n",
    "        #\n",
    "        # if random1 == 'v':\n",
    "        #     move_r = numpy.random.choice(range(0,board['c']-1))\n",
    "        #     move_h = numpy.random.choice(range(0,board['r']))\n",
    "\n",
    "        # move = (random1, move_r, move_h)\n",
    "        if(len(actions(board)) == 1):\n",
    "            move = actions(board).pop()\n",
    "        else:\n",
    "            move = random.choice(actions(board))\n",
    "        if((move[0], move[1], move[2]) not in board[\"moves\"]):\n",
    "            return move\n"
   ]
  },
  {
   "cell_type": "code",
   "execution_count": 12,
   "outputs": [
    {
     "name": "stdout",
     "output_type": "stream",
     "text": [
      "('h', 2, 3)\n"
     ]
    }
   ],
   "source": [
    "temp_r = create_board(5,5)\n",
    "\n",
    "x = random_player(temp_r)\n",
    "print(x)"
   ],
   "metadata": {
    "collapsed": false,
    "pycharm": {
     "name": "#%%\n"
    }
   }
  },
  {
   "cell_type": "markdown",
   "metadata": {
    "pycharm": {
     "name": "#%% md\n"
    }
   },
   "source": [
    "Let two random agents play against each other 1000 times. Look at the Experiments section for tic-tac-toe to see how the environment uses the agent functions to play against each other.\n",
    "\n",
    "How often does each player win? Is the result expected?"
   ]
  },
  {
   "cell_type": "code",
   "execution_count": 25,
   "metadata": {
    "tags": [],
    "pycharm": {
     "name": "#%%\n"
    }
   },
   "outputs": [
    {
     "data": {
      "text/plain": "{1: 506, 2: 494, 'd': 0}"
     },
     "execution_count": 25,
     "metadata": {},
     "output_type": "execute_result"
    }
   ],
   "source": [
    "# Your code/ answer goes here.\n",
    "\n",
    "def switch_player(player, agent_func1, agent_func2):\n",
    "    \"\"\"Switch player symbol and agent function between turns.\n",
    "    player is a player symbol and x and o are the players' agent functions.\"\"\"\n",
    "    if player == '1':\n",
    "        return '2', agent_func2\n",
    "    else:\n",
    "        return '1', agent_func1\n",
    "\n",
    "def play_game(agent_func1, agent_func2, N = 1000, size = 4):\n",
    "    \"\"\"Play N games. x and o are the players' agent functions.\"\"\"\n",
    "    results = {1 : 0, 2 : 0, 'd': 0}\n",
    "    #Skip if player gets a box\n",
    "    skip = False\n",
    "    for i in range(N):\n",
    "        board_game = create_board(size,size)\n",
    "        player, fun = 1, agent_func1\n",
    "\n",
    "        while True:\n",
    "            a = fun(board_game, player)\n",
    "            boxes_b = len(board_game['boxes']) #check to skip turn\n",
    "\n",
    "            # if len(board_game['moves']) == 0:\n",
    "            #     win = check_win(board_game)\n",
    "            #     results[win] += 1\n",
    "            #     break\n",
    "            board_game = result(board_game, player, a)\n",
    "            boxes_a = len(board_game['boxes'])\n",
    "\n",
    "            if boxes_b - boxes_a != 0: #turn skipped\n",
    "                skip = True\n",
    "\n",
    "            win = check_win(board_game)\n",
    "            if win != \"None\":\n",
    "                results[win] += 1\n",
    "                break\n",
    "\n",
    "\n",
    "            if skip == False:\n",
    "                player = other(player)\n",
    "                fun = agent_func1 if player == 1 else agent_func2\n",
    "            else:\n",
    "                skip = False\n",
    "    return results\n",
    "play_game(random_player, random_player)"
   ]
  },
  {
   "cell_type": "markdown",
   "metadata": {
    "pycharm": {
     "name": "#%% md\n"
    }
   },
   "source": [
    "## Task 3: Minimax Search with Alpha-Beta Pruning [30 points]\n",
    "\n",
    "### Implement the search starting.\n",
    "\n",
    "Implement the search starting from a given board and specifying the player and put it into an agent function.\n",
    "You can use code from the [tic-tac-toe example](https://nbviewer.org/github/mhahsler/CS7320-AI/blob/master/Games/tictactoe_alpha_beta_tree_search.ipynb).\n",
    "\n",
    "__Notes:__ \n",
    "* Make sure that all your agent functions have a signature consistent with the random agent above.\n",
    "* The search space for larger board may be too large. You can experiment with smaller boards."
   ]
  },
  {
   "cell_type": "code",
   "execution_count": 15,
   "metadata": {
    "pycharm": {
     "name": "#%%\n"
    }
   },
   "outputs": [
    {
     "data": {
      "text/plain": "<Figure size 288x288 with 1 Axes>",
      "image/png": "[encoded data removed]"
     },
     "metadata": {},
     "output_type": "display_data"
    },
    {
     "data": {
      "text/plain": "<Figure size 288x288 with 1 Axes>",
      "image/png": "[encoded data removed]"
     },
     "metadata": {},
     "output_type": "display_data"
    },
    {
     "name": "stdout",
     "output_type": "stream",
     "text": [
      "Number of nodes searched: 3412\n",
      "{'move': ('h', 0, 0), 'value': -1}\n"
     ]
    }
   ],
   "source": [
    "import math\n",
    "# global variables\n",
    "DEBUG = 1 # 1 ... count nodes, 2 ... debug each node\n",
    "COUNT = 0\n",
    "\n",
    "def alpha_beta_search(board, player = 1):\n",
    "    \"\"\"start the search.\"\"\"\n",
    "    global DEBUG, COUNT\n",
    "    COUNT = 0\n",
    "\n",
    "    value, move = max_value_ab(board, player, -math.inf, +math.inf)\n",
    "\n",
    "    if DEBUG >= 1: print(f\"Number of nodes searched: {COUNT}\")\n",
    "\n",
    "    return { \"move\": move, \"value\": value }\n",
    "\n",
    "def max_value_ab(state, player, alpha, beta):\n",
    "    \"\"\"player's best move.\"\"\"\n",
    "    global DEBUG, COUNT\n",
    "    COUNT += 1\n",
    "\n",
    "    # return utility if state is a terminal state\n",
    "    v = utility(state, player)\n",
    "    if DEBUG >= 2: print(f\"max: {state} [alpha,beta]=\"\n",
    "                         f\"[{alpha},{beta}] v={v}\")\n",
    "    if v is not None:\n",
    "        if DEBUG >= 2: print(f\"     found terminal state. backtracking.\")\n",
    "        return v, None\n",
    "\n",
    "    v, move = -math.inf, None\n",
    "\n",
    "    # check all possible actions in the state, update alpha and return move\n",
    "    # with the largest value\n",
    "    poss_actions = actions(state)\n",
    "    for a in poss_actions:\n",
    "        v2, a2 = min_value_ab(result(state, player, a),\n",
    "                              player, alpha, beta)\n",
    "        if DEBUG >= 2: print(f\"max: {state} (backtracked) [alpha,beta]=\"\n",
    "                             f\"[{alpha},{beta}] v={v2}\")\n",
    "\n",
    "        if v2 > v:\n",
    "            v, move = v2, a\n",
    "            alpha = max(alpha, v)\n",
    "        if v >= beta:\n",
    "            if DEBUG >= 2: print(f\"     v>=beta ({v}>=\"\n",
    "                                 f\"{beta}): pruning \"\n",
    "                                 f\"remaining subtree (actions). backtracking.\")\n",
    "            return v, move\n",
    "\n",
    "    return v, move\n",
    "\n",
    "def min_value_ab(state, player, alpha, beta):\n",
    "    \"\"\"opponent's best response.\"\"\"\n",
    "    global DEBUG, COUNT\n",
    "    COUNT += 1\n",
    "\n",
    "    # return utility of state is a terminal state\n",
    "    v = utility(state, player)\n",
    "    if DEBUG >= 2: print(f\"min: {state} [alpha,beta]=[{alpha},{beta}] v={v}\")\n",
    "    # if terminal(state):\n",
    "    if v is not None:\n",
    "        if DEBUG >= 2: print(f\"     found terminal state. backtacking.\")\n",
    "        return v, None\n",
    "\n",
    "    v, move = +math.inf, None\n",
    "\n",
    "    # check all possible actions in the state, update beta\n",
    "    # and return move with the smallest value\n",
    "    for a in actions(state):\n",
    "        v2, a2 = max_value_ab(result(state, other(player), a),\n",
    "                              player, alpha, beta)\n",
    "        if DEBUG >= 2: print(f\"min: {state} (backtracked) [alpha,beta]=[\"\n",
    "                             f\"{alpha},{beta}] v={v2}\")\n",
    "\n",
    "        if v2 < v:\n",
    "            v, move = v2, a\n",
    "            beta = min(beta, v)\n",
    "        if v <= alpha:\n",
    "            if DEBUG >= 2: print(f\"     v<=alpha ({v}<={alpha}):\"\n",
    "                                 f\" pruning remaining subtree \"\n",
    "                                 f\"(actions). backtracking.\")\n",
    "            return v, move\n",
    "\n",
    "    return v, move\n",
    "alpha_test = create_board(3,3)\n",
    "moves = [\n",
    "     (\"h\", 0, 1),\n",
    "     (\"h\", 0, 2),\n",
    "    #(\"h\", 0, 0),\n",
    "     (\"h\", 0, 2),\n",
    "     (\"h\", 0, 1),\n",
    "     (\"h\", 0, 2),\n",
    "    (\"v\", 2, 2),\n",
    "     (\"v\", 2, 2),\n",
    "    (\"v\", 0, 2),\n",
    "     (\"h\", 2, 0),\n",
    "     (\"v\", 2, 0),\n",
    "    (\"v\", 0, 0),\n",
    "]\n",
    "display(alpha_test)\n",
    "play(alpha_test,moves)\n",
    "display(alpha_test)\n",
    "print(alpha_beta_search(alpha_test))\n",
    "def alpha_beta_search_player(board, player=None):\n",
    "    # temp_board = board.copy()\n",
    "    # temp_moves = temp_board[\"moves\"][0]\n",
    "    # if temp_moves == None: return\n",
    "    # second_board = create_board().\n",
    "    # if(len(board['moves']) == 0): return True\n",
    "        return alpha_beta_search(board.copy(),player = player)\n",
    "\n",
    "#display(alpha_beta_search_player(alpha_test))"
   ]
  },
  {
   "cell_type": "markdown",
   "metadata": {
    "pycharm": {
     "name": "#%% md\n"
    }
   },
   "source": [
    "Experiment with some manually created boards (at least 5) to check if the agent spots winning opportunities."
   ]
  },
  {
   "cell_type": "code",
   "execution_count": 333,
   "metadata": {
    "pycharm": {
     "name": "#%%\n"
    }
   },
   "outputs": [
    {
     "data": {
      "text/plain": "<Figure size 288x288 with 1 Axes>",
      "image/png": "[encoded data removed]"
     },
     "metadata": {},
     "output_type": "display_data"
    },
    {
     "name": "stdout",
     "output_type": "stream",
     "text": [
      "Number of nodes searched: 15107\n",
      "{'move': ('v', 1, 1), 'value': inf}\n"
     ]
    },
    {
     "data": {
      "text/plain": "<Figure size 288x288 with 1 Axes>",
      "image/png": "[encoded data removed]"
     },
     "metadata": {},
     "output_type": "display_data"
    },
    {
     "name": "stdout",
     "output_type": "stream",
     "text": [
      "Number of nodes searched: 16370\n",
      "{'move': ('h', 0, 1), 'value': 1}\n"
     ]
    },
    {
     "data": {
      "text/plain": "<Figure size 288x288 with 1 Axes>",
      "image/png": "[encoded data removed]"
     },
     "metadata": {},
     "output_type": "display_data"
    },
    {
     "name": "stdout",
     "output_type": "stream",
     "text": [
      "Number of nodes searched: 714\n",
      "{'move': ('h', 1, 1), 'value': inf}\n"
     ]
    },
    {
     "data": {
      "text/plain": "<Figure size 288x288 with 1 Axes>",
      "image/png": "[encoded data removed]"
     },
     "metadata": {},
     "output_type": "display_data"
    },
    {
     "name": "stdout",
     "output_type": "stream",
     "text": [
      "Number of nodes searched: 101055\n",
      "{'move': ('h', 0, 1), 'value': inf}\n"
     ]
    },
    {
     "data": {
      "text/plain": "<Figure size 288x288 with 1 Axes>",
      "image/png": "[encoded data removed]"
     },
     "metadata": {},
     "output_type": "display_data"
    },
    {
     "name": "stdout",
     "output_type": "stream",
     "text": [
      "Number of nodes searched: 1030\n",
      "{'move': ('h', 0, 1), 'value': 1}\n"
     ]
    }
   ],
   "source": [
    "moves1 = [\n",
    "    (\"h\", 1, 0),\n",
    "    (\"h\", 2, 0),\n",
    "    (\"v\", 0, 0),\n",
    "    (\"v\", 1, 0)\n",
    "]\n",
    "temp1 = create_board(3,3)\n",
    "play(temp1, moves1)\n",
    "display(temp1)\n",
    "print(alpha_beta_search_player(temp1, 1))\n",
    "\n",
    "\n",
    "moves2 = [\n",
    "    (\"v\",0, 0),\n",
    "    (\"h\", 0, 0),\n",
    "    (\"v\", 1, 0)\n",
    "]\n",
    "temp2 = create_board(3,3)\n",
    "play(temp2, moves2)\n",
    "display(temp2)\n",
    "print(alpha_beta_search_player(temp2, 1))\n",
    "\n",
    "moves3 = [\n",
    "    (\"v\", 0, 0),\n",
    "    (\"v\", 1, 0),\n",
    "    (\"v\", 1, 1),\n",
    "    (\"h\", 0, 1),\n",
    "    (\"h\", 1, 0),\n",
    "    (\"h\", 2, 0),\n",
    "    (\"h\", 2, 1)\n",
    "]\n",
    "temp3 = create_board(3,3)\n",
    "play(temp3, moves3)\n",
    "display(temp3)\n",
    "print(alpha_beta_search_player(temp3, 1))\n",
    "\n",
    "moves4 = [\n",
    "    (\"h\", 1, 1)\n",
    "]\n",
    "temp4 = create_board(3,3)\n",
    "play(temp4, moves4)\n",
    "display(temp4)\n",
    "print(alpha_beta_search_player(temp4, 1))\n",
    "\n",
    "moves5 = [\n",
    "    (\"v\",0, 0),\n",
    "    (\"v\", 1, 1),\n",
    "    (\"v\", 1, 0),\n",
    "    (\"h\", 0, 0),\n",
    "    (\"h\", 2, 0),\n",
    "    (\"v\",0, 1)\n",
    "]\n",
    "temp5 = create_board(3,3)\n",
    "play(temp5, moves5)\n",
    "display(temp5)\n",
    "\n",
    "print(alpha_beta_search_player(temp5, 1))"
   ]
  },
  {
   "cell_type": "markdown",
   "metadata": {
    "pycharm": {
     "name": "#%% md\n"
    }
   },
   "source": [
    "How long does it take to make a move? Start with a smaller board make the board larger. What is the largest board you can solve?"
   ]
  },
  {
   "cell_type": "code",
   "execution_count": 24,
   "outputs": [
    {
     "name": "stdout",
     "output_type": "stream",
     "text": [
      "2x2 Board Time\n",
      "Number of nodes searched: 31\n",
      "{'move': ('h', 0, 0), 'value': -1}\n",
      "CPU times: total: 0 ns\n",
      "Wall time: 1.01 ms\n",
      "\n",
      "\n",
      "\n",
      "3x3 Board Time\n",
      "Number of nodes searched: 2201245\n",
      "{'move': None, 'value': -inf}\n",
      "CPU times: total: 1min 42s\n",
      "Wall time: 1min 43s\n",
      "\n",
      "\n",
      "\n"
     ]
    }
   ],
   "source": [
    "import time\n",
    "\n",
    "# Your code/ answer goes here.\n",
    "x1 = create_board(2,2)\n",
    "x2 = create_board(3,3)\n",
    "x3 = create_board(4,4)\n",
    "\n",
    "\n",
    "print(\"2x2 Board Time\")\n",
    "%time print(alpha_beta_search_player(x1, 1))\n",
    "print(\"\\n\\n\")\n",
    "\n",
    "print(\"3x3 Board Time\")\n",
    "%time print(alpha_beta_search_player(x2, 1))\n",
    "print(\"\\n\\n\")\n",
    "\n",
    "##4x4 board has taken 10+ minutes so far, so it has been too long\n",
    "\n",
    "\n",
    "\n"
   ],
   "metadata": {
    "collapsed": false,
    "pycharm": {
     "name": "#%%\n"
    }
   }
  },
  {
   "cell_type": "markdown",
   "metadata": {
    "pycharm": {
     "name": "#%% md\n"
    }
   },
   "source": [
    "### Move ordering\n",
    "\n",
    "Starting the search with better moves will increase the efficiency of alpha-beta pruning. Describe and implement a simple move ordering strategy. Make a table that shows how the ordering strategies influence the time it takes to make a move?"
   ]
  },
  {
   "cell_type": "code",
   "execution_count": 320,
   "metadata": {
    "pycharm": {
     "name": "#%%\n"
    }
   },
   "outputs": [],
   "source": [
    "\n",
    "def move_ordering_2(possible_moves, board):\n",
    "\n",
    "    n = board['n']\n",
    "    m = board['m']\n",
    "\n",
    "    n_center =  n // 2\n",
    "    m_center = m // 2\n",
    "\n",
    "    pos_difference = lambda move: abs(move[1] - n_center) \\\n",
    "                                  + abs(move[2] - m_center)\n",
    "\n",
    "    possible_moves.sort(key=pos_difference)\n"
   ]
  },
  {
   "cell_type": "markdown",
   "metadata": {
    "pycharm": {
     "name": "#%% md\n"
    }
   },
   "source": [
    "### The first few moves\n",
    "\n",
    "Start with an empty board. This is the worst case scenario for minimax search with alpha-beta pruning since it needs solve all possible games that can be played (minus some pruning) before making the decision. What can you do? "
   ]
  },
  {
   "cell_type": "code",
   "execution_count": 280,
   "metadata": {
    "pycharm": {
     "name": "#%%\n"
    }
   },
   "outputs": [],
   "source": [
    "#I could preempt moves that start in the center of the board, instead of\n",
    "# doing the minimax search.\n",
    "def pre_empt(board):\n",
    "    length_r = board['r']\n",
    "    length_g = board['c']\n",
    "    mul = length_g * length_r - (length_g + length_r)\n",
    "    poss_moves = []\n",
    "    r_h = [\"v\", \"h\"]\n",
    "    for x in range(mul):\n",
    "        ran = random.choice(r_h)\n",
    "        poss_moves.append(ran, length_g/2, length_r/2 )\n"
   ]
  },
  {
   "cell_type": "markdown",
   "metadata": {
    "pycharm": {
     "name": "#%% md\n"
    }
   },
   "source": [
    "### Playtime\n",
    "\n",
    "Let the Minimax Search agent play a random agent on a small board. Analyze wins, losses and draws."
   ]
  },
  {
   "cell_type": "code",
   "execution_count": 29,
   "metadata": {
    "pycharm": {
     "name": "#%%\n"
    }
   },
   "outputs": [
    {
     "name": "stdout",
     "output_type": "stream",
     "text": [
      "Number of nodes searched: 31\n"
     ]
    },
    {
     "ename": "KeyError",
     "evalue": "0",
     "output_type": "error",
     "traceback": [
      "\u001B[1;31m---------------------------------------------------------------------------\u001B[0m",
      "\u001B[1;31mKeyError\u001B[0m                                  Traceback (most recent call last)",
      "Input \u001B[1;32mIn [29]\u001B[0m, in \u001B[0;36m<module>\u001B[1;34m\u001B[0m\n\u001B[0;32m      1\u001B[0m \u001B[38;5;66;03m# Your code/ answer goes here.\u001B[39;00m\n\u001B[1;32m----> 2\u001B[0m \u001B[43mplay_game\u001B[49m\u001B[43m(\u001B[49m\u001B[43malpha_beta_search_player\u001B[49m\u001B[43m,\u001B[49m\u001B[43m \u001B[49m\u001B[43mrandom_player\u001B[49m\u001B[43m,\u001B[49m\u001B[38;5;241;43m4\u001B[39;49m\u001B[43m,\u001B[49m\u001B[43m \u001B[49m\u001B[38;5;241;43m2\u001B[39;49m\u001B[43m)\u001B[49m\n",
      "Input \u001B[1;32mIn [25]\u001B[0m, in \u001B[0;36mplay_game\u001B[1;34m(agent_func1, agent_func2, N, size)\u001B[0m\n\u001B[0;32m     22\u001B[0m boxes_b \u001B[38;5;241m=\u001B[39m \u001B[38;5;28mlen\u001B[39m(board_game[\u001B[38;5;124m'\u001B[39m\u001B[38;5;124mboxes\u001B[39m\u001B[38;5;124m'\u001B[39m]) \u001B[38;5;66;03m#check to skip turn\u001B[39;00m\n\u001B[0;32m     24\u001B[0m \u001B[38;5;66;03m# if len(board_game['moves']) == 0:\u001B[39;00m\n\u001B[0;32m     25\u001B[0m \u001B[38;5;66;03m#     win = check_win(board_game)\u001B[39;00m\n\u001B[0;32m     26\u001B[0m \u001B[38;5;66;03m#     results[win] += 1\u001B[39;00m\n\u001B[0;32m     27\u001B[0m \u001B[38;5;66;03m#     break\u001B[39;00m\n\u001B[1;32m---> 28\u001B[0m board_game \u001B[38;5;241m=\u001B[39m \u001B[43mresult\u001B[49m\u001B[43m(\u001B[49m\u001B[43mboard_game\u001B[49m\u001B[43m,\u001B[49m\u001B[43m \u001B[49m\u001B[43mplayer\u001B[49m\u001B[43m,\u001B[49m\u001B[43m \u001B[49m\u001B[43ma\u001B[49m\u001B[43m)\u001B[49m\n\u001B[0;32m     29\u001B[0m boxes_a \u001B[38;5;241m=\u001B[39m \u001B[38;5;28mlen\u001B[39m(board_game[\u001B[38;5;124m'\u001B[39m\u001B[38;5;124mboxes\u001B[39m\u001B[38;5;124m'\u001B[39m])\n\u001B[0;32m     31\u001B[0m \u001B[38;5;28;01mif\u001B[39;00m boxes_b \u001B[38;5;241m-\u001B[39m boxes_a \u001B[38;5;241m!=\u001B[39m \u001B[38;5;241m0\u001B[39m: \u001B[38;5;66;03m#turn skipped\u001B[39;00m\n",
      "Input \u001B[1;32mIn [9]\u001B[0m, in \u001B[0;36mresult\u001B[1;34m(board, player, move)\u001B[0m\n\u001B[0;32m      7\u001B[0m \u001B[38;5;28;01mdef\u001B[39;00m \u001B[38;5;21mresult\u001B[39m(board, player, move):\n\u001B[0;32m      9\u001B[0m     board_new \u001B[38;5;241m=\u001B[39m copy\u001B[38;5;241m.\u001B[39mdeepcopy(board)\n\u001B[1;32m---> 10\u001B[0m     \u001B[43mmake_move\u001B[49m\u001B[43m(\u001B[49m\u001B[43mboard_new\u001B[49m\u001B[43m,\u001B[49m\u001B[43m \u001B[49m\u001B[43mplayer\u001B[49m\u001B[43m,\u001B[49m\u001B[43m \u001B[49m\u001B[43mmove\u001B[49m\u001B[43m)\u001B[49m\n\u001B[0;32m     12\u001B[0m     \u001B[38;5;28;01mreturn\u001B[39;00m board_new\n",
      "Input \u001B[1;32mIn [7]\u001B[0m, in \u001B[0;36mmake_move\u001B[1;34m(board, player, move, show_board, verbose)\u001B[0m\n\u001B[0;32m      1\u001B[0m \u001B[38;5;28;01mdef\u001B[39;00m \u001B[38;5;21mmake_move\u001B[39m(board, player, move, show_board \u001B[38;5;241m=\u001B[39m \u001B[38;5;28;01mFalse\u001B[39;00m, verbose\u001B[38;5;241m=\u001B[39m\u001B[38;5;28;01mFalse\u001B[39;00m):\n\u001B[0;32m      2\u001B[0m     \u001B[38;5;124;03m\"\"\"\u001B[39;00m\n\u001B[0;32m      3\u001B[0m \u001B[38;5;124;03m    Place a line on an exiting board.\u001B[39;00m\n\u001B[0;32m      4\u001B[0m \n\u001B[1;32m   (...)\u001B[0m\n\u001B[0;32m     13\u001B[0m \n\u001B[0;32m     14\u001B[0m \u001B[38;5;124;03m    \"\"\"\u001B[39;00m\n\u001B[1;32m---> 16\u001B[0m     \u001B[38;5;28;01mif\u001B[39;00m \u001B[43mmove\u001B[49m\u001B[43m[\u001B[49m\u001B[38;5;241;43m0\u001B[39;49m\u001B[43m]\u001B[49m \u001B[38;5;129;01mnot\u001B[39;00m \u001B[38;5;129;01min\u001B[39;00m [\u001B[38;5;124m'\u001B[39m\u001B[38;5;124mh\u001B[39m\u001B[38;5;124m'\u001B[39m, \u001B[38;5;124m'\u001B[39m\u001B[38;5;124mv\u001B[39m\u001B[38;5;124m'\u001B[39m]: \u001B[38;5;66;03m#Orientation is wrong\u001B[39;00m\n\u001B[0;32m     17\u001B[0m         \u001B[38;5;28;01mreturn\u001B[39;00m \u001B[38;5;28;01mFalse\u001B[39;00m\n\u001B[0;32m     19\u001B[0m     \u001B[38;5;28;01mif\u001B[39;00m move[\u001B[38;5;241m1\u001B[39m] \u001B[38;5;241m<\u001B[39m \u001B[38;5;241m0\u001B[39m \u001B[38;5;129;01mor\u001B[39;00m move[\u001B[38;5;241m2\u001B[39m] \u001B[38;5;241m<\u001B[39m \u001B[38;5;241m0\u001B[39m: \u001B[38;5;66;03m#negative number\u001B[39;00m\n",
      "\u001B[1;31mKeyError\u001B[0m: 0"
     ]
    }
   ],
   "source": [
    "# Your code/ answer goes here.\n",
    "play_game(alpha_beta_search_player, random_player,4, 2)\n",
    "##not sure why this isnt working, it seems like the moves\n",
    "# inside the table\n",
    "# seem to be 0 for some reason instead of ending the game"
   ]
  },
  {
   "cell_type": "markdown",
   "metadata": {
    "pycharm": {
     "name": "#%% md\n"
    }
   },
   "source": [
    "## Task 4: Heuristic Alpha-Beta Tree Search [30 points] \n",
    "\n",
    "### Heuristic evaluation function\n",
    "\n",
    "Define and implement a heuristic evaluation function."
   ]
  },
  {
   "cell_type": "code",
   "execution_count": 32,
   "metadata": {
    "pycharm": {
     "name": "#%%\n"
    }
   },
   "outputs": [],
   "source": [
    "def heuristic_eval_three(board): #counting how many boxes with 3 edges\n",
    "    count = 0\n",
    "    for i in range(len(board['edges'])):\n",
    "        if(board['edges'][i] == 3):\n",
    "            count = 1 + count\n",
    "    return count\n",
    "\n",
    "def heuristic_eval_two(board): #counting how many boxes with 2 edges\n",
    "    count = 0\n",
    "    for i in range(len(board['edges'])):\n",
    "        if(board['edges'][i] == 2):\n",
    "            count = 1 + count\n",
    "    return count"
   ]
  },
  {
   "cell_type": "code",
   "execution_count": 34,
   "outputs": [
    {
     "data": {
      "text/plain": "0"
     },
     "execution_count": 34,
     "metadata": {},
     "output_type": "execute_result"
    }
   ],
   "source": [
    "x = create_board(5,5)\n",
    "heuristic_eval_three(x)\n"
   ],
   "metadata": {
    "collapsed": false,
    "pycharm": {
     "name": "#%%\n"
    }
   }
  },
  {
   "cell_type": "code",
   "execution_count": 51,
   "outputs": [
    {
     "data": {
      "text/plain": "(-15, False)"
     },
     "execution_count": 51,
     "metadata": {},
     "output_type": "execute_result"
    }
   ],
   "source": [
    "def evaluation(board, player = 1, weight1 = 1, weight2 = 2, weight3 = 1):\n",
    "    '''For terminal states, finds utility\n",
    "    For non-terminal states, it uses a weighted function consisting\n",
    "    of three edged and 2 edged boxes\n",
    "    The 3 edged boxes offer more utility while the two edged boxes offer less utility\n",
    "    The weights are based on the current utility'''\n",
    "\n",
    "    u = utility(board)\n",
    "    if terminal(board) != \"None\": return u, True\n",
    "\n",
    "    col = board['c']\n",
    "    row = board['r']\n",
    "    t = create_board(row, col)\n",
    "    t_t = len(actions(t)) #subtracting possible moves left\n",
    "    h = len(actions(board)) - t_t\n",
    "    score = 0\n",
    "    score = (weight1 * heuristic_eval_three(board) + weight3 * h -\n",
    "             heuristic_eval_two(board) * weight2)\n",
    "    return score, False\n",
    "x = create_board(5,5)\n",
    "moves = [\n",
    "     (\"h\", 1, 4),\n",
    "     (\"v\", 3, 3),\n",
    "    #(\"h\", 0, 0),\n",
    "     (\"h\", 0, 4),\n",
    "     (\"h\", 3, 4),\n",
    "     (\"h\", 0, 0),\n",
    "    (\"v\", 4, 3),\n",
    "     (\"v\", 3, 3),\n",
    "    (\"v\", 0, 3),\n",
    "     (\"h\", 3, 0),\n",
    "     (\"v\", 4, 0),\n",
    "    (\"v\", 0, 0)\n",
    "]\n",
    "play(x,moves)\n",
    "evaluation(x)"
   ],
   "metadata": {
    "collapsed": false,
    "pycharm": {
     "name": "#%%\n"
    }
   }
  },
  {
   "cell_type": "markdown",
   "metadata": {
    "pycharm": {
     "name": "#%% md\n"
    }
   },
   "source": [
    "### Cutting off search \n",
    "\n",
    "Modify your Minimax Search with Alpha-Beta Pruning to cut off search at a specified depth and use the heuristic evaluation function. Experiment with different cutoff values."
   ]
  },
  {
   "cell_type": "code",
   "execution_count": 52,
   "metadata": {
    "pycharm": {
     "name": "#%%\n"
    }
   },
   "outputs": [],
   "source": [
    "import math\n",
    "\n",
    "# global variables\n",
    "DEBUG = 1 # 1 ... count nodes, 2 ... debug each node\n",
    "COUNT = 0\n",
    "\n",
    "# Implementation of Minimax Search with Alpha Beta Pruning.\n",
    "# Adopted and modified from tictactoe_alpha_beta_tree_search.ipynb.\n",
    "def heuristic_ab_search(board, player = 1, cutoff = None,\n",
    "                        evaluation = evaluation):\n",
    "    \"\"\"start the search.\"\"\"\n",
    "    global DEBUG, COUNT\n",
    "    COUNT = 0\n",
    "\n",
    "    value, move = heuristic_max_value_ab(board, player, -math.inf,\n",
    "                                         +math.inf, 0, cutoff, evaluation)\n",
    "\n",
    "    if DEBUG >= 1: print(f\"Number of nodes searched: {COUNT}\")\n",
    "\n",
    "    return { \"move\": move, \"value\": value }\n",
    "\n",
    "def heuristic_max_value_ab(state, player, alpha, beta, depth,\n",
    "                           cutoff, evaluation):\n",
    "    \"\"\"player's best move.\"\"\"\n",
    "    global DEBUG, COUNT\n",
    "    COUNT += 1\n",
    "\n",
    "    # cut off and terminal test\n",
    "    v, terminal = evaluation(state, player)\n",
    "    if((cutoff is not None and depth >= cutoff) or terminal):\n",
    "        if(terminal > 0):\n",
    "            alpha, beta = v, v\n",
    "        if DEBUG >= 2: print(f\"stopped at {depth}: {state} term: \"\n",
    "                             f\"{terminal} \"\n",
    "                             f\"eval: {v} [{alpha}, {beta}]\" )\n",
    "        return v, None\n",
    "\n",
    "    v, move = -math.inf, None\n",
    "\n",
    "    # check all possible actions in the state, update alpha and return move\n",
    "    # with the largest value\n",
    "    for a in actions(state):\n",
    "        v2, a2 = heuristic_min_value_ab(result(state, other(player),\n",
    "                                               a), player, alpha,\n",
    "                                        beta, depth+1, cutoff, evaluation)\n",
    "        if v2 > v:\n",
    "            v, move = v2, a\n",
    "            alpha = max(alpha, v)\n",
    "        if v >= beta: return v, move\n",
    "\n",
    "    return v, move\n",
    "\n",
    "def heuristic_min_value_ab(state, player, alpha, beta,\n",
    "                           depth, cutoff, eval_fun):\n",
    "    \"\"\"opponent's best response.\"\"\"\n",
    "    global DEBUG, COUNT\n",
    "    COUNT += 1\n",
    "\n",
    "    # cut off and terminal test\n",
    "    v, terminal = eval_fun(state, player)\n",
    "    if((cutoff is not None and depth >= cutoff) or terminal):\n",
    "        if(terminal):\n",
    "            alpha, beta = v, v\n",
    "        if DEBUG >= 2: print(f\"stopped at {depth}: {state} term:\"\n",
    "                             f\"{terminal} eval: {v} [{alpha}, {beta}]\" )\n",
    "        return v, None\n",
    "\n",
    "    v, move = +math.inf, None\n",
    "    # check all possible actions in the state, update beta and\n",
    "    # return move with the smallest value\n",
    "    for a in actions(state):\n",
    "        v2, a2 = heuristic_max_value_ab(result(state,\n",
    "                                               other(player), a),\n",
    "                                        player, alpha, beta,\n",
    "                                        depth+1, cutoff, eval_fun)\n",
    "        if v2 < v:\n",
    "            v, move = v2, a\n",
    "            beta = min(beta, v)\n",
    "        if v <= alpha: return v, move\n",
    "\n",
    "    return v, move"
   ]
  },
  {
   "cell_type": "markdown",
   "metadata": {
    "pycharm": {
     "name": "#%% md\n"
    }
   },
   "source": [
    "Experiment with the same manually created boards as above to check if the agent spots winning opportunities."
   ]
  },
  {
   "cell_type": "code",
   "execution_count": 54,
   "metadata": {
    "pycharm": {
     "name": "#%%\n"
    }
   },
   "outputs": [],
   "source": [
    "# Your code/ answer goes here.\n",
    "# Your code/ answer goes here.\n",
    "def heuristic_ab_search_player(board, player=1, evaluation= 2):\n",
    "    return heuristic_ab_search(board.copy(),player = player, cutoff=5)"
   ]
  },
  {
   "cell_type": "code",
   "execution_count": 56,
   "outputs": [
    {
     "name": "stdout",
     "output_type": "stream",
     "text": [
      "Number of nodes searched: 3286\n",
      "{'move': ('h', 0, 0), 'value': -6}\n"
     ]
    }
   ],
   "source": [
    "k = create_board(3,3)\n",
    "# print(k)\n",
    "print(heuristic_ab_search_player(k,1,2))\n"
   ],
   "metadata": {
    "collapsed": false,
    "pycharm": {
     "name": "#%%\n"
    }
   }
  },
  {
   "cell_type": "markdown",
   "metadata": {
    "pycharm": {
     "name": "#%% md\n"
    }
   },
   "source": [
    "How long does it take to make a move? Start with a smaller board with 4 columns and make the board larger by adding columns."
   ]
  },
  {
   "cell_type": "code",
   "execution_count": 57,
   "metadata": {
    "pycharm": {
     "name": "#%%\n"
    }
   },
   "outputs": [
    {
     "name": "stdout",
     "output_type": "stream",
     "text": [
      "3x3 Board Time\n",
      "Number of nodes searched: 3286\n",
      "CPU times: total: 141 ms\n",
      "Wall time: 127 ms\n",
      "\n",
      "\n",
      "\n",
      "4x4 Board Time\n",
      "Number of nodes searched: 58639\n",
      "CPU times: total: 2.58 s\n",
      "Wall time: 2.75 s\n",
      "\n",
      "\n",
      "\n"
     ]
    }
   ],
   "source": [
    "print(\"3x3 Board Time\")\n",
    "%time heuristic_ab_search_player(create_board(3,3), 1)\n",
    "print(\"\\n\\n\")\n",
    "\n",
    "print(\"4x4 Board Time\")\n",
    "%time heuristic_ab_search_player(create_board(4,4), 1)\n",
    "print(\"\\n\\n\")\n"
   ]
  },
  {
   "cell_type": "markdown",
   "metadata": {
    "pycharm": {
     "name": "#%% md\n"
    }
   },
   "source": [
    "### Playtime\n",
    "\n",
    "Let two heuristic search agents (different cutoff depth, different heuristic evaluation function) compete against each other on a reasonably sized board. Since there is no randomness, you only need to let them play once."
   ]
  },
  {
   "cell_type": "code",
   "execution_count": 58,
   "metadata": {
    "pycharm": {
     "name": "#%%\n"
    }
   },
   "outputs": [
    {
     "name": "stdout",
     "output_type": "stream",
     "text": [
      "Number of nodes searched: 58639\n"
     ]
    },
    {
     "ename": "KeyError",
     "evalue": "0",
     "output_type": "error",
     "traceback": [
      "\u001B[1;31m---------------------------------------------------------------------------\u001B[0m",
      "\u001B[1;31mKeyError\u001B[0m                                  Traceback (most recent call last)",
      "Input \u001B[1;32mIn [58]\u001B[0m, in \u001B[0;36m<module>\u001B[1;34m\u001B[0m\n\u001B[1;32m----> 1\u001B[0m \u001B[43mplay_game\u001B[49m\u001B[43m(\u001B[49m\u001B[43mheuristic_ab_search_player\u001B[49m\u001B[43m,\u001B[49m\u001B[43m \u001B[49m\u001B[43mheuristic_ab_search_player\u001B[49m\u001B[43m)\u001B[49m\n",
      "Input \u001B[1;32mIn [25]\u001B[0m, in \u001B[0;36mplay_game\u001B[1;34m(agent_func1, agent_func2, N, size)\u001B[0m\n\u001B[0;32m     22\u001B[0m boxes_b \u001B[38;5;241m=\u001B[39m \u001B[38;5;28mlen\u001B[39m(board_game[\u001B[38;5;124m'\u001B[39m\u001B[38;5;124mboxes\u001B[39m\u001B[38;5;124m'\u001B[39m]) \u001B[38;5;66;03m#check to skip turn\u001B[39;00m\n\u001B[0;32m     24\u001B[0m \u001B[38;5;66;03m# if len(board_game['moves']) == 0:\u001B[39;00m\n\u001B[0;32m     25\u001B[0m \u001B[38;5;66;03m#     win = check_win(board_game)\u001B[39;00m\n\u001B[0;32m     26\u001B[0m \u001B[38;5;66;03m#     results[win] += 1\u001B[39;00m\n\u001B[0;32m     27\u001B[0m \u001B[38;5;66;03m#     break\u001B[39;00m\n\u001B[1;32m---> 28\u001B[0m board_game \u001B[38;5;241m=\u001B[39m \u001B[43mresult\u001B[49m\u001B[43m(\u001B[49m\u001B[43mboard_game\u001B[49m\u001B[43m,\u001B[49m\u001B[43m \u001B[49m\u001B[43mplayer\u001B[49m\u001B[43m,\u001B[49m\u001B[43m \u001B[49m\u001B[43ma\u001B[49m\u001B[43m)\u001B[49m\n\u001B[0;32m     29\u001B[0m boxes_a \u001B[38;5;241m=\u001B[39m \u001B[38;5;28mlen\u001B[39m(board_game[\u001B[38;5;124m'\u001B[39m\u001B[38;5;124mboxes\u001B[39m\u001B[38;5;124m'\u001B[39m])\n\u001B[0;32m     31\u001B[0m \u001B[38;5;28;01mif\u001B[39;00m boxes_b \u001B[38;5;241m-\u001B[39m boxes_a \u001B[38;5;241m!=\u001B[39m \u001B[38;5;241m0\u001B[39m: \u001B[38;5;66;03m#turn skipped\u001B[39;00m\n",
      "Input \u001B[1;32mIn [9]\u001B[0m, in \u001B[0;36mresult\u001B[1;34m(board, player, move)\u001B[0m\n\u001B[0;32m      7\u001B[0m \u001B[38;5;28;01mdef\u001B[39;00m \u001B[38;5;21mresult\u001B[39m(board, player, move):\n\u001B[0;32m      9\u001B[0m     board_new \u001B[38;5;241m=\u001B[39m copy\u001B[38;5;241m.\u001B[39mdeepcopy(board)\n\u001B[1;32m---> 10\u001B[0m     \u001B[43mmake_move\u001B[49m\u001B[43m(\u001B[49m\u001B[43mboard_new\u001B[49m\u001B[43m,\u001B[49m\u001B[43m \u001B[49m\u001B[43mplayer\u001B[49m\u001B[43m,\u001B[49m\u001B[43m \u001B[49m\u001B[43mmove\u001B[49m\u001B[43m)\u001B[49m\n\u001B[0;32m     12\u001B[0m     \u001B[38;5;28;01mreturn\u001B[39;00m board_new\n",
      "Input \u001B[1;32mIn [7]\u001B[0m, in \u001B[0;36mmake_move\u001B[1;34m(board, player, move, show_board, verbose)\u001B[0m\n\u001B[0;32m      1\u001B[0m \u001B[38;5;28;01mdef\u001B[39;00m \u001B[38;5;21mmake_move\u001B[39m(board, player, move, show_board \u001B[38;5;241m=\u001B[39m \u001B[38;5;28;01mFalse\u001B[39;00m, verbose\u001B[38;5;241m=\u001B[39m\u001B[38;5;28;01mFalse\u001B[39;00m):\n\u001B[0;32m      2\u001B[0m     \u001B[38;5;124;03m\"\"\"\u001B[39;00m\n\u001B[0;32m      3\u001B[0m \u001B[38;5;124;03m    Place a line on an exiting board.\u001B[39;00m\n\u001B[0;32m      4\u001B[0m \n\u001B[1;32m   (...)\u001B[0m\n\u001B[0;32m     13\u001B[0m \n\u001B[0;32m     14\u001B[0m \u001B[38;5;124;03m    \"\"\"\u001B[39;00m\n\u001B[1;32m---> 16\u001B[0m     \u001B[38;5;28;01mif\u001B[39;00m \u001B[43mmove\u001B[49m\u001B[43m[\u001B[49m\u001B[38;5;241;43m0\u001B[39;49m\u001B[43m]\u001B[49m \u001B[38;5;129;01mnot\u001B[39;00m \u001B[38;5;129;01min\u001B[39;00m [\u001B[38;5;124m'\u001B[39m\u001B[38;5;124mh\u001B[39m\u001B[38;5;124m'\u001B[39m, \u001B[38;5;124m'\u001B[39m\u001B[38;5;124mv\u001B[39m\u001B[38;5;124m'\u001B[39m]: \u001B[38;5;66;03m#Orientation is wrong\u001B[39;00m\n\u001B[0;32m     17\u001B[0m         \u001B[38;5;28;01mreturn\u001B[39;00m \u001B[38;5;28;01mFalse\u001B[39;00m\n\u001B[0;32m     19\u001B[0m     \u001B[38;5;28;01mif\u001B[39;00m move[\u001B[38;5;241m1\u001B[39m] \u001B[38;5;241m<\u001B[39m \u001B[38;5;241m0\u001B[39m \u001B[38;5;129;01mor\u001B[39;00m move[\u001B[38;5;241m2\u001B[39m] \u001B[38;5;241m<\u001B[39m \u001B[38;5;241m0\u001B[39m: \u001B[38;5;66;03m#negative number\u001B[39;00m\n",
      "\u001B[1;31mKeyError\u001B[0m: 0"
     ]
    }
   ],
   "source": [
    "play_game(heuristic_ab_search_player, heuristic_ab_search_player)"
   ]
  },
  {
   "cell_type": "markdown",
   "metadata": {
    "pycharm": {
     "name": "#%% md\n"
    }
   },
   "source": [
    "## Tournament task [+1 to 5% bonus on your course grade; will be assigned separately]\n",
    "\n",
    "Find another student and let your best agent play against the other student's best player. You are allowed to use any improvements you like as long as you code it yourself. We will set up a class tournament on Canvas. This tournament will continue after the submission deadline."
   ]
  },
  {
   "cell_type": "markdown",
   "metadata": {
    "pycharm": {
     "name": "#%% md\n"
    }
   },
   "source": [
    "## Graduate student advanced task: Pure Monte Carlo Search and Best First Move [10 point]\n",
    "\n",
    "__Undergraduate students:__ This is a bonus task you can attempt if you like [+5 Bonus point].\n",
    "\n",
    "### Pure Monte Carlo Search\n",
    "\n",
    "Implement Pure Monte Carlo Search (see [tic-tac-toe-example](https://nbviewer.org/github/mhahsler/CS7320-AI/blob/master/Games/tictactoe_pure_monte_carlo_search.ipynb)) and investigate how this search performs on the test boards that you have used above. "
   ]
  },
  {
   "cell_type": "code",
   "execution_count": 20,
   "metadata": {
    "pycharm": {
     "name": "#%%\n"
    }
   },
   "outputs": [],
   "source": [
    "# Your code/ answer goes here."
   ]
  },
  {
   "cell_type": "markdown",
   "metadata": {
    "pycharm": {
     "name": "#%% md\n"
    }
   },
   "source": [
    "### Best First Move\n",
    "\n",
    "How would you determine what the best first move for a standard board ($5 \\times 5$) is? You can use Pure Monte Carlo Search or any algorithms that you have implemented above."
   ]
  },
  {
   "cell_type": "code",
   "execution_count": 21,
   "metadata": {
    "pycharm": {
     "name": "#%%\n"
    }
   },
   "outputs": [],
   "source": [
    "# Your code/ answer goes here."
   ]
  }
 ],
 "metadata": {
  "kernelspec": {
   "display_name": "Python 3 (ipykernel)",
   "language": "python",
   "name": "python3"
  },
  "language_info": {
   "codemirror_mode": {
    "name": "ipython",
    "version": 3
   },
   "file_extension": ".py",
   "mimetype": "text/x-python",
   "name": "python",
   "nbconvert_exporter": "python",
   "pygments_lexer": "ipython3",
   "version": "3.9.5"
  }
 },
 "nbformat": 4,
 "nbformat_minor": 4
}